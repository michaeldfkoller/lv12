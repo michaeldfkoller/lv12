{
 "cells": [
  {
   "cell_type": "markdown",
   "metadata": {},
   "source": [
    "**Capital insurance on one insured life**\n",
    "\n",
    "We look at capital insurance and denote:\n",
    "\n",
    "\\begin{eqnarray}\n",
    "b: \\mathbb{N} \\to \\mathbb{R}, \\xi \\mapsto b(\\xi)\n",
    "\\end{eqnarray}\n",
    "\n",
    "The benefit due if person dies at age $\\xi$. We assume that the policy is issues at age $x$ and matures at age $s$. If the person suvives util $s$ a benefit of $m(s)$ is due. \n",
    "\n",
    "We use the normal notation regarding $v$ and $K$ and denote by $Z$ the random present value of this insurance. $Z$ can be calculated as follows:\n",
    "\n",
    "\\begin{eqnarray}\n",
    "Z = \\chi_{K_x < s-x} \\times v^{K_x+1} \\times b(x+K_x) + \\chi_{K_x \\ge s-x} \\times v^{s-x} \\times m(s)\n",
    "\\end{eqnarray}\n",
    "\n",
    "Looking at the expected value we get\n",
    "\n",
    "\\begin{eqnarray}\n",
    "\\mathbb{E}[Z] = \\sum_{k=0}^{s-x-1} {}_kp_x \\, q_{x+k} \\, v^{k+1} \\times b(x+k) + {}_{s-x}p_x \\times v^{s-x} \\times m(s)\n",
    "\\end{eqnarray}\n",
    "\n",
    "This can be calculated via commutation functions as follows\n",
    "\n",
    "\\begin{eqnarray}\n",
    "A_x^{gen} := \\mathbb{E}[Z] = \\frac{1}{D_x}\\left(\\sum_{k=0}^{s-x-1}  C_{x+k} \\times b(x+k) + D_{s} \\times m(s) \\right)\n",
    "\\end{eqnarray}\n",
    "\n",
    "We can also calculate this recursively as follows:\n",
    "\n",
    "\\begin{eqnarray}\n",
    "A_s^{gen} &=& m(s) \\\\\n",
    "A_x^{gen} &=& q_x \\times v \\times b(x) + p_x \\times v \\times A_{x+1}^{gen}\n",
    "\\end{eqnarray}\n",
    "\n",
    "We will use this in the following for our calculations and note that further details can be found in the script\n"
   ]
  },
  {
   "cell_type": "code",
   "execution_count": 3,
   "metadata": {},
   "outputs": [],
   "source": [
    "import math\n",
    "import numpy as np\n",
    "\n",
    "filename = \"EK95.txt\"\n",
    "#EKMF95 = np.loadtxt(filename, skiprows=0)\n",
    "\n",
    "#print(EKMF95[20,:])\n",
    "\n",
    "# 1. Definition of Mortality Tables\n",
    "\n",
    "def QxEK95(gender,x,t,param =[]):\n",
    "    return(Qx(gender,x,t,param =param))\n",
    "\n",
    "def Qx(gender,x,t,param =[]):\n",
    "    # This is our default mortality\n",
    "    if gender == 0:\n",
    "        a =[2.34544649e+01,8.70547812e-02,7.50884047e-05,-1.67917935e-02]\n",
    "    else:\n",
    "        a =[2.66163571e+01,8.60317509e-02,2.56738012e-04,-1.91632675e-02]\n",
    "    if x>110: a[3]= 0\n",
    "    return(np.exp(a[0]+(a[1]+a[2]*x)*x+a[3]*t))\n",
    "\n",
    "def QxNoReduction(gender,x,t,param =[]):\n",
    "    # This is our default mortality\n",
    "    t = 2015\n",
    "    if gender == 0:\n",
    "        a =[2.34544649e+01,8.70547812e-02,7.50884047e-05,-1.67917935e-02]\n",
    "    else:\n",
    "        a =[2.66163571e+01,8.60317509e-02,2.56738012e-04,-1.91632675e-02]\n",
    "    return(np.exp(a[0]+(a[1]+a[2]*x)*x+a[3]*t))\n",
    "\n",
    "def QxMedieval(gender,x,t,param =[]):\n",
    "    a=-9.13275\n",
    "    b= 8.09432e-2\n",
    "    c= -1.1018e-5\n",
    "    value=math.exp(a+(b+c*x)*x)\n",
    "    alpha = 7.26502413\n",
    "    beta = 0.01342065\n",
    "    return(max(0,min(1,alpha*value+beta)))\n",
    "\n",
    "# 2. Definition of payment patterns \n",
    "\n",
    "def ConstantBenefit(x,param=[]):\n",
    "    return(1.)\n",
    "\n",
    "def ZeroBenefit(x,param=[]):\n",
    "    return(0.)"
   ]
  },
  {
   "cell_type": "code",
   "execution_count": 8,
   "metadata": {},
   "outputs": [],
   "source": [
    "import numpy as np\n",
    "import matplotlib.pyplot as plt\n",
    "\n",
    "class Capital:\n",
    "    def __init__(self,Qx,i=0.02,omega=120,t0 = 2020):\n",
    "        self.dIrate = i\n",
    "        self.nOmega = omega\n",
    "        self.psymB = ConstantBenefit \n",
    "        self.psymM = ConstantBenefit # We incialise actually A_x\n",
    "        self.psymQx = Qx\n",
    "        self.dV = 1. /(1+self.dIrate)\n",
    "        self.nT0 = t0\n",
    "        \n",
    "    def CommFu(self,gender,x,symbol):\n",
    "        # Returns Commutation functions, interest rates and table used from \n",
    "        # Class - defined by initialisaation\n",
    "        # Allowable symbnols l, D, N, S, C, M, R\n",
    "        if symbol == \"l\":\n",
    "            l = 100000.\n",
    "            px = 1.  #tp0\n",
    "            for i in range(x):\n",
    "                t = self.nT0 + i\n",
    "                qx = self.psymQx(gender,i,t) \n",
    "                px *= (1-qx)\n",
    "            return(l * px)\n",
    "        if symbol == \"D\":\n",
    "            return(self.CommFu(gender,x,\"l\")*self.dV**x) # l_x v^x\n",
    "        if symbol == \"C\":\n",
    "            return((self.CommFu(gender,x,\"l\")-self.CommFu(gender,x+1,\"l\"))*self.dV**(x+1))\n",
    "        if symbol == \"N\":\n",
    "            sum = 0 \n",
    "            for i in range(x,self.nOmega):\n",
    "                sum += self.CommFu(gender,i,\"D\")\n",
    "            return(sum)\n",
    "        if symbol == \"S\":\n",
    "            sum = 0 \n",
    "            for i in range(x,self.nOmega):\n",
    "                sum += self.CommFu(gender,i,\"N\")\n",
    "            return(sum)\n",
    "        if symbol == \"M\":\n",
    "            sum = 0 \n",
    "            for i in range(x,self.nOmega):\n",
    "                sum += self.CommFu(gender,i,\"C\")\n",
    "            return(sum)\n",
    "        if symbol == \"R\":\n",
    "            sum = 0 \n",
    "            for i in range(x,self.nOmega):\n",
    "                sum += self.CommFu(gender,i,\"M\")\n",
    "            return(sum)\n",
    "        return(\"Error\")\n",
    "        \n",
    "    def CalcPV(self,gender,x,s,param=[]):\n",
    "        # Calculation of present value by means of recursion\n",
    "        PV = self.psymM(s,param=param)\n",
    "        n  = s-x\n",
    "        for i in range(s-1,x-1,-1):\n",
    "            t = self.nT0 + i - x\n",
    "            qx = self.psymQx(gender,i,t)\n",
    "            px = 1. - qx\n",
    "            PV = qx * self.dV * self.psymB(i,param=param) + px * self.dV * PV\n",
    "        return(PV)\n",
    "    \n",
    "    def CalcCF(self,gender,x,s,periods = 50,param=[]):\n",
    "        # Caculation of expected cash flows\n",
    "        CF = np.zeros(periods)\n",
    "        px = 1\n",
    "        for i in range(x,s):\n",
    "            t = self.nT0 + i - x\n",
    "            qx = self.psymQx(gender,i,t)\n",
    "            n = i - x\n",
    "            if n >= periods:\n",
    "                break\n",
    "            CF[n] = px * qx * self.psymB(i,param=param)\n",
    "            px *= (1-qx)\n",
    "            #print(i, px, qx)\n",
    "        \n",
    "        n = s - x\n",
    "        if n < periods:\n",
    "            CF[n] = px * self.psymM(s,param=param)\n",
    "            \n",
    "        return(CF)\n",
    "        "
   ]
  },
  {
   "cell_type": "code",
   "execution_count": 9,
   "metadata": {},
   "outputs": [
    {
     "name": "stdout",
     "output_type": "stream",
     "text": [
      "0.2909436036784844 0.25913505928060987 0.6501634229767058\n"
     ]
    }
   ],
   "source": [
    "Ax = Capital(Qx, omega=120)\n",
    "AxMed = Capital(QxMedieval)\n",
    "AxNR = Capital(QxNoReduction)\n",
    "AxEK95 = Capital(QxEK95)\n",
    "print(Ax.CalcPV(0,25,100), Ax.CalcPV(1,25,100),AxMed.CalcPV(0,25,100))\n",
    "\n"
   ]
  },
  {
   "cell_type": "code",
   "execution_count": 11,
   "metadata": {},
   "outputs": [
    {
     "data": {
      "image/png": "[encoded data removed]",
      "text/plain": [
       "<Figure size 432x288 with 1 Axes>"
      ]
     },
     "metadata": {
      "needs_background": "light"
     },
     "output_type": "display_data"
    }
   ],
   "source": [
    "CF1 = AxNR.CalcCF(0,25,110,periods=100)\n",
    "CF3 = AxMed.CalcCF(0,25,110,periods=100)\n",
    "CF2 = AxNR.CalcCF(1,25,110,periods=100)\n",
    "plt.figure(1)\n",
    "plt.plot(range(25, 25+len(CF1)),CF1,range(25, 25+len(CF2)),CF2,range(25, 25+len(CF3)),CF3)\n",
    "plt.grid(True)"
   ]
  },
  {
   "cell_type": "code",
   "execution_count": 12,
   "metadata": {},
   "outputs": [
    {
     "name": "stdout",
     "output_type": "stream",
     "text": [
      "How does Expected Value move for changing ages, Example Ax:n\n"
     ]
    },
    {
     "data": {
      "image/png": "[encoded data removed]",
      "text/plain": [
       "<Figure size 432x288 with 1 Axes>"
      ]
     },
     "metadata": {
      "needs_background": "light"
     },
     "output_type": "display_data"
    }
   ],
   "source": [
    "print(\"How does Expected Value move for changing ages, Example Ax:n\")\n",
    "\n",
    "x=range(25,66)\n",
    "y = []\n",
    "for i in x:\n",
    "    y.append(Ax.CalcPV(0,i,65))\n",
    "\n",
    "plt.figure(2)\n",
    "plt.plot(x,y)\n",
    "plt.grid(True)\n",
    "    "
   ]
  },
  {
   "cell_type": "code",
   "execution_count": 13,
   "metadata": {},
   "outputs": [
    {
     "name": "stdout",
     "output_type": "stream",
     "text": [
      "How does Expected Value move for changing ages, Example Ax\n"
     ]
    },
    {
     "data": {
      "image/png": "[encoded data removed]",
      "text/plain": [
       "<Figure size 432x288 with 1 Axes>"
      ]
     },
     "metadata": {
      "needs_background": "light"
     },
     "output_type": "display_data"
    }
   ],
   "source": [
    "print(\"How does Expected Value move for changing ages, Example Ax\")\n",
    "\n",
    "x=range(0,110)\n",
    "y = []\n",
    "z = []\n",
    "for i in x:\n",
    "    y.append(Ax.CalcPV(0,i,110))\n",
    "    z.append(AxMed.CalcPV(0,i,110))\n",
    "\n",
    "plt.figure(3)\n",
    "plt.plot(x,y,\"r\",x,z,\"g\")\n",
    "plt.grid(True)"
   ]
  },
  {
   "cell_type": "code",
   "execution_count": 22,
   "metadata": {},
   "outputs": [
    {
     "name": "stdout",
     "output_type": "stream",
     "text": [
      "64\n",
      "63\n",
      "62\n",
      "61\n",
      "60\n"
     ]
    }
   ],
   "source": [
    "for i in range(64,59,-1):\n",
    "    print(i)"
   ]
  },
  {
   "cell_type": "code",
   "execution_count": 14,
   "metadata": {},
   "outputs": [
    {
     "name": "stdout",
     "output_type": "stream",
     "text": [
      "Example Ax= Mx/Dx\n",
      "0.34037088619382866 0.3403708861942261 -3.9745984281580604e-13\n"
     ]
    }
   ],
   "source": [
    "print(\"Example Ax= Mx/Dx\")\n",
    "AxNRPV = AxNR.CalcPV(0,25,110)\n",
    "AxNRPVCF = AxNR.CommFu(0,25,\"M\")/AxNR.CommFu(0,25,\"D\")\n",
    "print(AxNRPV,AxNRPVCF,AxNRPV-AxNRPVCF )"
   ]
  },
  {
   "cell_type": "code",
   "execution_count": 15,
   "metadata": {},
   "outputs": [
    {
     "name": "stdout",
     "output_type": "stream",
     "text": [
      "Example Ax:n = (Mx - M(x+n) + D(x+n))/Dx\n",
      "n =  40\n",
      "0.46433991284240017 0.46433991284240006 1.1102230246251565e-16\n"
     ]
    }
   ],
   "source": [
    "print(\"Example Ax:n = (Mx - M(x+n) + D(x+n))/Dx\")\n",
    "x = 25\n",
    "s = 65\n",
    "n =  s - x\n",
    "print(\"n = \", n)\n",
    "AxNRPV = AxNR.CalcPV(0,x,65)\n",
    "AxNRPVCF = (AxNR.CommFu(0,x,\"M\")-AxNR.CommFu(0,65,\"M\")+AxNR.CommFu(0,65,\"D\"))/AxNR.CommFu(0,x,\"D\")\n",
    "print(AxNRPV,AxNRPVCF,AxNRPV-AxNRPVCF )\n"
   ]
  },
  {
   "cell_type": "code",
   "execution_count": 16,
   "metadata": {},
   "outputs": [
    {
     "name": "stdout",
     "output_type": "stream",
     "text": [
      "Example Ax:n^1: (Mx -M(x+n))/Dx\n",
      "n =  35\n",
      "0.0673058681223249 0.06730586812232482 8.326672684688674e-17\n"
     ]
    }
   ],
   "source": [
    "print(\"Example Ax:n^1: (Mx -M(x+n))/Dx\")\n",
    "x = 30\n",
    "s = 65\n",
    "n =  s - x\n",
    "AxNR.psymM = ZeroBenefit\n",
    "print(\"n = \", n)\n",
    "AxNRPV = AxNR.CalcPV(0,30,65)\n",
    "AxNRPVCF = (AxNR.CommFu(0,30,\"M\")-AxNR.CommFu(0,65,\"M\"))/AxNR.CommFu(0,30,\"D\")\n",
    "print(AxNRPV,AxNRPVCF,AxNRPV-AxNRPVCF )\n"
   ]
  },
  {
   "cell_type": "code",
   "execution_count": 17,
   "metadata": {},
   "outputs": [
    {
     "name": "stdout",
     "output_type": "stream",
     "text": [
      "Example Ax:n - EKM95\n",
      "n =  35\n",
      "0.5082791545147576 0.478907921628055 0.02937123288670257\n"
     ]
    }
   ],
   "source": [
    "print(\"Example Ax:n - EKM95\")\n",
    "x = 30\n",
    "s = 65\n",
    "n =  s - x\n",
    "print(\"n = \", n)\n",
    "AxNRPV = AxEK95.CalcPV(0,30,65)\n",
    "AxNRPVCF = (AxEK95.CommFu(0,30,\"M\")-AxEK95.CommFu(0,65,\"M\")+AxEK95.CommFu(0,65,\"D\"))/AxEK95.CommFu(0,30,\"D\")\n",
    "print(AxNRPV,AxNRPVCF,AxNRPV-AxNRPVCF )\n"
   ]
  },
  {
   "cell_type": "code",
   "execution_count": 14,
   "metadata": {},
   "outputs": [
    {
     "data": {
      "text/plain": [
       "1.2637880998926752"
      ]
     },
     "execution_count": 14,
     "metadata": {},
     "output_type": "execute_result"
    }
   ],
   "source": [
    "(0.5182265810717616-0.511759031333641)/0.511759031333641*100"
   ]
  },
  {
   "cell_type": "markdown",
   "metadata": {},
   "source": [
    "We want to calculate the PV of a decreasing insurance with\n",
    "x=30\n",
    "n=35\n",
    "Down from 100000 at x=30 to 0 at 65\n"
   ]
  },
  {
   "cell_type": "code",
   "execution_count": 18,
   "metadata": {},
   "outputs": [],
   "source": [
    "def MyBenefit(x,param=[]):\n",
    "    return(max(0,100000 * (65.-x)/35.))"
   ]
  },
  {
   "cell_type": "code",
   "execution_count": 23,
   "metadata": {},
   "outputs": [
    {
     "name": "stdout",
     "output_type": "stream",
     "text": [
      "42857.142857142855\n",
      "100000.0\n",
      "0\n"
     ]
    },
    {
     "data": {
      "image/png": "[encoded data removed]",
      "text/plain": [
       "<Figure size 432x288 with 1 Axes>"
      ]
     },
     "metadata": {
      "needs_background": "light"
     },
     "output_type": "display_data"
    }
   ],
   "source": [
    "print(MyBenefit(50))\n",
    "print(MyBenefit(30))\n",
    "print(MyBenefit(65))\n",
    "\n",
    "x=[]\n",
    "y=[]\n",
    "z=[]\n",
    "for i in range(30,70):\n",
    "    x.append(i)\n",
    "    y.append(MyBenefit(i))\n",
    "    z.append(100000)\n",
    "    \n",
    "plt.figure(1)\n",
    "plt.plot(x,y,'b',x,z,'r')\n",
    "plt.grid(True)"
   ]
  },
  {
   "cell_type": "code",
   "execution_count": 24,
   "metadata": {},
   "outputs": [
    {
     "name": "stdout",
     "output_type": "stream",
     "text": [
      "Single Prem Decr=  1543.543133499062\n",
      "Single Prem Norm=  4273.810945103187\n"
     ]
    },
    {
     "data": {
      "image/png": "[encoded data removed]",
      "text/plain": [
       "<Figure size 432x288 with 1 Axes>"
      ]
     },
     "metadata": {
      "needs_background": "light"
     },
     "output_type": "display_data"
    }
   ],
   "source": [
    "AxDecr = Capital(Qx)\n",
    "AxDecr.psymM = ZeroBenefit\n",
    "AxDecr.psymB = MyBenefit\n",
    "AxNorm = Capital(Qx)\n",
    "AxNorm.psymM = ZeroBenefit\n",
    "\n",
    "print(\"Single Prem Decr= \",AxDecr.CalcPV(0,30,65))\n",
    "print(\"Single Prem Norm= \",100000*AxNorm.CalcPV(0,30,65))\n",
    "\n",
    "\n",
    "CFDecr = AxDecr.CalcCF(0,30,65,periods=40)\n",
    "CFNorm = 100000*AxNorm.CalcCF(0,30,65,periods=40)\n",
    "plt.figure(1)\n",
    "plt.plot(range(len(CFDecr)),CFDecr, range(len(CFNorm)),CFNorm)\n",
    "plt.grid(True)"
   ]
  },
  {
   "cell_type": "code",
   "execution_count": 25,
   "metadata": {},
   "outputs": [
    {
     "data": {
      "image/png": "[encoded data removed]",
      "text/plain": [
       "<Figure size 432x288 with 1 Axes>"
      ]
     },
     "metadata": {
      "needs_background": "light"
     },
     "output_type": "display_data"
    }
   ],
   "source": [
    "def MyBenefit2(x,param=[]):\n",
    "    return(max(0,100000 + 50000*np.sin(x/10*np.pi)))\n",
    "x=[]\n",
    "y=[]\n",
    "for i in range(30,70):\n",
    "    x.append(i)\n",
    "    y.append(MyBenefit2(i))\n",
    "\n",
    "plt.figure(1)\n",
    "plt.plot(x,y,'b',x,z,'r')\n",
    "plt.grid(True)"
   ]
  },
  {
   "cell_type": "code",
   "execution_count": 26,
   "metadata": {},
   "outputs": [
    {
     "name": "stdout",
     "output_type": "stream",
     "text": [
      "Single Prem Fun=  4217.890902321397\n"
     ]
    },
    {
     "data": {
      "image/png": "[encoded data removed]",
      "text/plain": [
       "<Figure size 432x288 with 1 Axes>"
      ]
     },
     "metadata": {
      "needs_background": "light"
     },
     "output_type": "display_data"
    }
   ],
   "source": [
    "AxFun = Capital(Qx)\n",
    "AxFun.psymM = ZeroBenefit\n",
    "AxFun.psymB = MyBenefit2\n",
    "\n",
    "print(\"Single Prem Fun= \",AxFun.CalcPV(0,30,65))\n",
    "CFFun = AxFun.CalcCF(0,30,70,periods=40)\n",
    "\n",
    "plt.figure(1)\n",
    "plt.plot(range(len(CFFun)),CFFun)\n",
    "plt.grid(True)"
   ]
  },
  {
   "cell_type": "code",
   "execution_count": null,
   "metadata": {},
   "outputs": [],
   "source": []
  }
 ],
 "metadata": {
  "kernelspec": {
   "display_name": "Python 3 (ipykernel)",
   "language": "python",
   "name": "python3"
  },
  "language_info": {
   "codemirror_mode": {
    "name": "ipython",
    "version": 3
   },
   "file_extension": ".py",
   "mimetype": "text/x-python",
   "name": "python",
   "nbconvert_exporter": "python",
   "pygments_lexer": "ipython3",
   "version": "3.9.7"
  }
 },
 "nbformat": 4,
 "nbformat_minor": 4
}
