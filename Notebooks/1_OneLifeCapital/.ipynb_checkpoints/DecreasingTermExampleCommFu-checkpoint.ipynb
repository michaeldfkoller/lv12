{
 "cells": [
  {
   "cell_type": "markdown",
   "id": "23359e5a",
   "metadata": {},
   "source": [
    "**Increasing and Decreasing types of Insurance**\n",
    "\n",
    "$(DA)_{x:n}^1$\n",
    "\n",
    "- First years insured benefit n\n",
    "- Second year insured benefit n-1 \n",
    "- Last year ... 1"
   ]
  },
  {
   "cell_type": "markdown",
   "id": "44b1267f",
   "metadata": {},
   "source": [
    "\\begin{eqnarray}\n",
    "(DA)_{x:n}^1 & = & A_{x:n}^1 +A_{x:n-1}^1 + \\dots + A_{x:1}^1 \\\\\n",
    "  & = & \\frac{M_x - M_{x+n}}{D_x} +A_{x:n-1}^1 + \\dots + A_{x:1}^1 \\\\\n",
    "  & = & \\frac{M_x - M_{x+n}}{D_x} +\\frac{M_x - M_{x+n-1}}{D_x} + \\dots + \\frac{M_x - M_{x+1}}{D_x}  \\\\\n",
    "  & = & \\frac{n \\times M_x}{D_x} - \\frac{M_{x+1}+  \\dots M_{x+n}}{D_x} \\\\\n",
    "  & = & \\frac{n \\times M_x}{D_x} - \\frac{R_{x+1}- R_{x+1+n}}{D_x}\n",
    "\\end{eqnarray}"
   ]
  },
  {
   "cell_type": "code",
   "execution_count": null,
   "id": "fe0e9550",
   "metadata": {},
   "outputs": [],
   "source": []
  }
 ],
 "metadata": {
  "kernelspec": {
   "display_name": "Python 3 (ipykernel)",
   "language": "python",
   "name": "python3"
  },
  "language_info": {
   "codemirror_mode": {
    "name": "ipython",
    "version": 3
   },
   "file_extension": ".py",
   "mimetype": "text/x-python",
   "name": "python",
   "nbconvert_exporter": "python",
   "pygments_lexer": "ipython3",
   "version": "3.9.7"
  }
 },
 "nbformat": 4,
 "nbformat_minor": 5
}
