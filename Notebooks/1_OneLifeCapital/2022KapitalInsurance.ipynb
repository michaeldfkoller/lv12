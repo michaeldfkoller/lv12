{
 "cells": [
  {
   "cell_type": "markdown",
   "id": "db07cd8d",
   "metadata": {},
   "source": [
    "**Types of Insurance we want to look at**\n",
    "\n",
    "- Whole of Life $A_x$\n",
    "- Term insurance (Temporary death benefit) $A_{x:n}^1$\n",
    "- Pure Enowment ${}_nE_x$\n",
    "- Mixed Endowment $A_{x:n}$\n",
    "- Deferred Whole of life $m|A_x$"
   ]
  },
  {
   "cell_type": "markdown",
   "id": "806e420d",
   "metadata": {},
   "source": [
    "**What are the respective Random Variables**\n",
    "\n",
    "- Whole of Life $A_x$: $Z = v^{K+1}$\n",
    "- Term insurance (Temporary death benefit) $A_{x:n}^1$: $Z_1 = v^{K+1} \\times \\mathbb{1}_{K<n}$\n",
    "- Pure Enowment ${}_nE_x$: $Z_2 = v^{n} \\times \\mathbb{1}_{K\\ge n}$\n",
    "- Mixed Endowment $A_{x:n}$: $Z= Z_1 + Z_2$\n",
    "- Deferred Whole of life $m|A_x$: $Z = v^{K+1} \\times \\mathbb{1}_{K \\ge n}$"
   ]
  },
  {
   "cell_type": "markdown",
   "id": "1d73c5f1",
   "metadata": {},
   "source": [
    "**What do we want to calculate for each type of insurance**\n",
    "\n",
    "- Definition\n",
    "- Expected Value\n",
    "- Expected Value expressed with Commutation Functions\n",
    "- Recusion between different years"
   ]
  },
  {
   "cell_type": "markdown",
   "id": "a0a55760",
   "metadata": {},
   "source": [
    "**$A_x$**\n",
    "\n",
    "- Definition: $Z = v^{K+1}$\n",
    "- Expected Value: $A_x = \\mathbb{E}[Z] = \\sum_{k=0}^\\infty {}_kp_x q_{x+k} v^{k+1}$\n",
    "- Expected Value expressed with Commutation Functions\n",
    "\\begin{eqnarray}\n",
    "A_x & = & \\sum_{k=0} ^ \\infty v^{k+1} {}_kp_x \\, q_{x+k} \\\\\n",
    "    & = & \\sum_{k=0} ^ \\infty v^{k+1} \\frac{l_{x+k}}{l_x} \\, \\frac{d_{x+k}}{l_{x+k}} \\\\\n",
    "     & = & \\sum_{k=0} ^ \\infty \\frac{v^{x+k+1}}{v^x} \\frac{l_{x+k}}{l_x} \\, \\frac{d_{x+k}}{l_{x+k}} \\\\\n",
    "     & = & \\sum_{k=0} ^ \\infty \\frac{v^{x+k+1} \\times d_{x+k}}{v^x \\times l_x}\\\\\n",
    "     & = & \\sum_{k=0} ^ \\infty \\frac{C_{x+k}}{D_x}\\\\\n",
    "    & = & \\frac{M_x}{D_x}\n",
    "\\end{eqnarray}\n",
    "- Recusion between different years: Need to relate $A_x$ and $A_{x+1}$: You need ${}_kp_x = p_x \\times {}_{k-1}p_{x+1}$\n",
    "\\begin{eqnarray}\n",
    "A_x &=& \\mathbb{E}[Z] \\\\ \n",
    "&=& \\sum_{k=0}^\\infty {}_kp_x q_{x+k} v^{k+1} \\\\\n",
    "&=& (\\sum_{k=0}^0 + \\sum_{k=1}^\\infty) {}_kp_x q_{x+k} v^{k+1} \\\\\n",
    "&=& q_x \\times v + \\sum_{k=1}^\\infty {}_kp_x q_{x+k} v^{k+1} \\\\\n",
    "&=& q_x \\times v + p_x \\times v \\times \\sum_{k=0}^\\infty {}_kp_{x+1} q_{x+1+k} v^{k+1} \\\\\n",
    "& = & q_x \\times v + p_x \\times v \\times A_{x+1}\n",
    "\\end{eqnarray}\n",
    "\n",
    "Hence\n",
    "\n",
    "\\begin{eqnarray}\n",
    "A_x &=&  q_x \\times v + p_x \\times v \\times A_{x+1}\n",
    "\\end{eqnarray}\n"
   ]
  },
  {
   "cell_type": "markdown",
   "id": "874d32f9",
   "metadata": {},
   "source": [
    "**$A_{x:n}^1$**\n",
    "\n",
    "- Definition: $Z = v^{K+1} \\times \\mathbb{1}_{K<n}$\n",
    "- Expected Value: $A_{x:n}^1 = \\mathbb{E}[Z] = \\sum_{k=0}^{n-1} {}_kp_x q_{x+k} v^{k+1}$\n",
    "- Expected Value expressed with Commutation Functions\n",
    "\\begin{eqnarray}\n",
    "A_{x:n}^1 & = & \\sum_{k=0}^{n-1} v^{k+1} {}_kp_x \\, q_{x+k} \\\\\n",
    "    & = & \\sum_{k=0}^{n-1} v^{k+1} \\frac{l_{x+k}}{l_x} \\, \\frac{d_{x+k}}{l_{x+k}} \\\\\n",
    "     & = & \\sum_{k=0}^{n-1} \\frac{v^{x+k+1}}{v^x} \\frac{l_{x+k}}{l_x} \\, \\frac{d_{x+k}}{l_{x+k}} \\\\\n",
    "     & = & \\sum_{k=0}^{n-1} \\frac{v^{x+k+1} \\times d_{x+k}}{v^x \\times l_x}\\\\\n",
    "     & = & \\sum_{k=0}^{n-1} \\frac{C_{x+k}}{D_x}\\\\\n",
    "    & = & \\frac{M_x-M_{x+n}}{D_x}\n",
    "\\end{eqnarray}\n",
    "- Recusion between different years: Need to relate $A_x$ and $A_{x+1}$: You need ${}_kp_x = p_x \\times {}_{k-1}p_{x+1}$\n",
    "\\begin{eqnarray}\n",
    "A_{x:n}^1 &=& \\mathbb{E}[Z] \\\\ \n",
    "&=& \\sum_{k=0}^{n-1} {}_kp_x q_{x+k} v^{k+1} \\\\\n",
    "&=& (\\sum_{k=0}^0 + \\sum_{k=1}^{n-1}) {}_kp_x q_{x+k} v^{k+1} \\\\\n",
    "&=& q_x \\times v + \\sum_{k=1}^{n-1} {}_kp_x q_{x+k} v^{k+1} \\\\\n",
    "&=& q_x \\times v + p_x \\times v \\times \\sum_{k=0}^{n-3} {}_kp_{x+1} q_{x+1+k} v^{k+1} \\\\\n",
    "& = & q_x \\times v + p_x \\times v \\times A_{x+1:n-1}\n",
    "\\end{eqnarray}\n",
    "\n",
    "Hence\n",
    "\n",
    "\\begin{eqnarray}\n",
    "A_{x:n}^1 &=&  q_x \\times v + p_x \\times v \\times A_{x+1:n-1}^1\n",
    "\\end{eqnarray}\n"
   ]
  },
  {
   "cell_type": "markdown",
   "id": "131502e9",
   "metadata": {},
   "source": [
    "**${}_nE_x$**\n",
    "\n",
    "- Definition: $Z = v^{n} \\times \\mathbb{1}_{K \\ge n}$\n",
    "- Expected Value: ${}_nE_x = \\mathbb{E}[Z] =  {}_np_x v^{n}$\n",
    "- Expected Value expressed with Commutation Functions\n",
    "\n",
    "\n",
    "Hence\n",
    "\n",
    "\\begin{eqnarray}\n",
    "{}_nE_x &=&   p_x \\times v \\times {}_{n-1}E_{x+1}\n",
    "\\end{eqnarray}"
   ]
  },
  {
   "cell_type": "code",
   "execution_count": null,
   "id": "1d4e653b",
   "metadata": {},
   "outputs": [],
   "source": []
  }
 ],
 "metadata": {
  "kernelspec": {
   "display_name": "Python 3 (ipykernel)",
   "language": "python",
   "name": "python3"
  },
  "language_info": {
   "codemirror_mode": {
    "name": "ipython",
    "version": 3
   },
   "file_extension": ".py",
   "mimetype": "text/x-python",
   "name": "python",
   "nbconvert_exporter": "python",
   "pygments_lexer": "ipython3",
   "version": "3.9.7"
  }
 },
 "nbformat": 4,
 "nbformat_minor": 5
}
