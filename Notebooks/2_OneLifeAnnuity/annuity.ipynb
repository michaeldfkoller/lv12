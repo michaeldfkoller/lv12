{
 "cells": [
  {
   "cell_type": "code",
   "execution_count": 6,
   "metadata": {},
   "outputs": [],
   "source": [
    "import math\n",
    "import numpy as np\n",
    "\n",
    "filename = \"EK95.txt\"\n",
    "#EKMF95 = np.loadtxt(filename, skiprows=0)\n",
    "\n",
    "#print(EKMF95[20,:])\n",
    "\n",
    "def QxEK95(gender,x,t,param =[]):\n",
    "    return(Qx(gender,x,t,param =param))\n",
    "\n",
    "def Qx(gender,x,t,param =[]):\n",
    "    # This is our default mortality q(x,t) = exp(a+bx+cx^2+d t)\n",
    "    if gender == 0:\n",
    "        a =[2.34544649e+01,8.70547812e-02,7.50884047e-05,-1.67917935e-02]\n",
    "    else:\n",
    "        a =[2.66163571e+01,8.60317509e-02,2.56738012e-04,-1.91632675e-02]\n",
    "    return(np.exp(a[0]+(a[1]+a[2]*x)*x+a[3]*t))\n",
    "\n",
    "def QxImproUntil2050(gender,x,t,param =[]):\n",
    "    # This is our default mortality q(x,t) = exp(a+bx+cx^2+d t)\n",
    "    if t>2050: t=2050\n",
    "    if gender == 0:\n",
    "        a =[2.34544649e+01,8.70547812e-02,7.50884047e-05,-1.67917935e-02]\n",
    "    else:\n",
    "        a =[2.66163571e+01,8.60317509e-02,2.56738012e-04,-1.91632675e-02]\n",
    "    return(np.exp(a[0]+(a[1]+a[2]*x)*x+a[3]*t))\n",
    "\n",
    "def QxNoReduction(gender,x,t,param =[]):\n",
    "    # This is our default mortality\n",
    "    t = 2024\n",
    "    if gender == 0:\n",
    "        a =[2.34544649e+01,8.70547812e-02,7.50884047e-05,-1.67917935e-02]\n",
    "    else:\n",
    "        a =[2.66163571e+01,8.60317509e-02,2.56738012e-04,-1.91632675e-02]\n",
    "    return(np.exp(a[0]+(a[1]+a[2]*x)*x+a[3]*t))\n",
    "\n",
    "def QxMedieval(gender,x,t,param =[]):\n",
    "    a=-9.13275\n",
    "    b= 8.09432e-2\n",
    "    c= -1.1018e-5\n",
    "    value=math.exp(a+(b+c*x)*x)\n",
    "    alpha = 7.26502413\n",
    "    beta = 0.01342065\n",
    "    return(max(0,min(1,alpha*value+beta)))\n",
    "\n",
    "def ConstantBenefit(x,param=[]):\n",
    "    return(1.)\n",
    "\n",
    "def ZeroBenefit(x,param=[]):\n",
    "    return(0.)\n",
    "\n",
    "def ExpBenefit(x,param=[]):\n",
    "    x0 = param[0]\n",
    "    alpha = param[1]\n",
    "    return((1+alpha)**(x-x0))\n",
    "\n",
    "def DeferredBenefit(x,param=[]):\n",
    "    x0 = param[0]\n",
    "    if x<x0:\n",
    "        return(0.)\n",
    "    return(1.)\n",
    "\n",
    "def DeferredInflationBenefit(x,param=[]):\n",
    "    x0 = param[0]\n",
    "    alpha = param[1]\n",
    "    s=param[2]\n",
    "    if(x<s): return(0.)\n",
    "    return((1+alpha)**(x-x0))"
   ]
  },
  {
   "cell_type": "code",
   "execution_count": 8,
   "metadata": {},
   "outputs": [],
   "source": [
    "import numpy as np\n",
    "import matplotlib.pyplot as plt\n",
    "\n",
    "class Annuity:\n",
    "    def __init__(self,Qx,i=0.02,omega=110,t0 = 2024):\n",
    "        self.dIrate = i\n",
    "        self.nOmega = omega\n",
    "        self.psymB = ConstantBenefit\n",
    "        self.psymQx = Qx\n",
    "        self.dV = 1. /(1+self.dIrate)\n",
    "        self.nT0 = t0\n",
    "        \n",
    "    def CommFu(self,gender,x,symbol):\n",
    "        # Allowable symbnols l, D, N, S, C, M, R\n",
    "        if symbol == \"l\":\n",
    "            l = 100000.\n",
    "            px = 1.\n",
    "            for i in range(x):\n",
    "                t = self.nT0 + i\n",
    "                qx = self.psymQx(gender,i,t) \n",
    "                px *= (1-qx)\n",
    "            return(l * px)\n",
    "        if symbol == \"D\":\n",
    "            return(self.CommFu(gender,x,\"l\")*self.dV**x)\n",
    "        if symbol == \"C\":\n",
    "            return((self.CommFu(gender,x,\"l\")-self.CommFu(gender,x+1,\"l\"))*self.dV**(x+1))\n",
    "        if symbol == \"N\":\n",
    "            sum = 0 \n",
    "            for i in range(x,self.nOmega):\n",
    "                sum += self.CommFu(gender,i,\"D\")\n",
    "            return(sum)\n",
    "        if symbol == \"S\":\n",
    "            sum = 0 \n",
    "            for i in range(x,self.nOmega):\n",
    "                sum += self.CommFu(gender,i,\"N\")\n",
    "            return(sum)\n",
    "        if symbol == \"M\":\n",
    "            sum = 0 \n",
    "            for i in range(x,self.nOmega):\n",
    "                sum += self.CommFu(gender,i,\"C\")\n",
    "            return(sum)\n",
    "        if symbol == \"R\":\n",
    "            sum = 0 \n",
    "            for i in range(x,self.nOmega):\n",
    "                sum += self.CommFu(gender,i,\"M\")\n",
    "            return(sum)\n",
    "        return(\"Error\")\n",
    "        \n",
    "    def CalcPV(self,gender,x,s,param=[]):\n",
    "        PV = 0\n",
    "        n  = s-x\n",
    "        for i in range(s-1,x-1,-1):\n",
    "            t = self.nT0 + i - x\n",
    "            qx = self.psymQx(gender,i,t)\n",
    "            px = 1. - qx\n",
    "            PV = self.psymB(i,param=param) + px * self.dV * PV # a_x = 1 + p_x v a_{x+1}\n",
    "        return(PV)\n",
    "    \n",
    "    def CalcCF(self,gender,x,s,periods = 50,param=[]):\n",
    "        CF = np.zeros(periods)\n",
    "        px = 1\n",
    "        for i in range(x,s):\n",
    "            t = self.nT0 + i - x\n",
    "            qx = self.psymQx(gender,i,t)\n",
    "            n = i - x\n",
    "            if n >= periods:\n",
    "                break\n",
    "            CF[n] = px  * self.psymB(i,param=param)\n",
    "            px *= (1-qx)\n",
    "            #print(i, px, qx)\n",
    "            \n",
    "        return(CF)\n",
    "        "
   ]
  },
  {
   "cell_type": "markdown",
   "metadata": {},
   "source": [
    "***Task***\n",
    "\n",
    "Calculate:\n",
    "\n",
    "Immediate Annuity ($\\ddot{a}_x$), Temporary Annuity ($\\ddot{a}_{x:n}$) and Deferred Annuity (${}_m|\\ddot{a}_x$)for\n",
    "\n",
    "x=30\n",
    "s=65\n",
    "n=m=65-30\n",
    "\n",
    "Both via Recursion and Commutation Functions"
   ]
  },
  {
   "cell_type": "code",
   "execution_count": 11,
   "metadata": {},
   "outputs": [
    {
     "name": "stdout",
     "output_type": "stream",
     "text": [
      "Comment: we using no generational table, since this is very tricky \n",
      "with commutation functions!\n",
      "------------------------------ \n",
      " \n",
      "\n",
      "Dx      54995.8\n",
      "Nx    1784707.9\n",
      "Ns     410783.7\n"
     ]
    }
   ],
   "source": [
    "aex=Annuity(QxNoReduction)\n",
    "\n",
    "aexGT=Annuity(Qx)\n",
    "aexGT2=Annuity(QxImproUntil2050)\n",
    "\n",
    "print(\"Comment: we using no generational table, since this is very tricky \\nwith commutation functions!\")\n",
    "print(\"------------------------------ \\n \\n\")\n",
    "x=30\n",
    "s=65\n",
    "n=s-x\n",
    "m=s-x\n",
    "gender= 0\n",
    "\n",
    "Dx = aex.CommFu(gender,x,\"D\")\n",
    "Nx = aex.CommFu(gender,x,\"N\")\n",
    "Ns = aex.CommFu(gender,s,\"N\")\n",
    "\n",
    "print(\"Dx %12.1f\"%(Dx))\n",
    "print(\"Nx %12.1f\"%(Nx))\n",
    "print(\"Ns %12.1f\"%(Ns))\n",
    "\n",
    "DxGT = aexGT.CommFu(gender,x,\"D\")\n",
    "NxGT = aexGT.CommFu(gender,x,\"N\")\n",
    "NsGT = aexGT.CommFu(gender,s,\"N\")"
   ]
  },
  {
   "cell_type": "code",
   "execution_count": 13,
   "metadata": {},
   "outputs": [
    {
     "name": "stdout",
     "output_type": "stream",
     "text": [
      "Immediate Annuity Nx/Dx\n",
      "\n",
      "\n",
      "KF    32.4517  Recursion    32.4517\n",
      "Difference     0.0000  Rel Error 2.1895e-16\n",
      "\n",
      "Now look how this works with GT\n",
      "\n",
      "KF    36.6577  Recursion    35.0192\n",
      "Difference     1.6384  Rel Error 4.6786e-02\n",
      "\n",
      "*** ERROR due to D(x) beeing D(x,t) etc ***\n",
      "--> Homework: fix it\n",
      "What is life expectancy? a_x where people are paid in the middle pf year w/o discounted\n",
      "Life Expectancy for an 0 year olf 82.01 and 95.54\n"
     ]
    }
   ],
   "source": [
    "\n",
    "print(\"Immediate Annuity Nx/Dx\\n\\n\")\n",
    "dValKF = Nx/Dx\n",
    "dValueRec= aex.CalcPV(gender,x,110,param=[s])\n",
    "print(\"KF %10.4f  Recursion %10.4f\"%(dValKF,dValueRec))\n",
    "print(\"Difference %10.4f  Rel Error %8.4e\"%(dValKF-dValueRec, (dValKF-dValueRec)/dValueRec))\n",
    "\n",
    "print(\"\\nNow look how this works with GT\\n\")\n",
    "\n",
    "dValKF = NxGT/DxGT\n",
    "dValueRec= aexGT.CalcPV(gender,x,110,param=[])\n",
    "print(\"KF %10.4f  Recursion %10.4f\"%(dValKF,dValueRec))\n",
    "print(\"Difference %10.4f  Rel Error %8.4e\"%(dValKF-dValueRec, (dValKF-dValueRec)/dValueRec))\n",
    "\n",
    "print(\"\\n*** ERROR due to D(x) beeing D(x,t) etc ***\")\n",
    "print(\"--> Homework: fix it\")\n",
    "\n",
    "print(\"What is life expectancy? a_x where people are paid in the middle pf year w/o discounted\")\n",
    "\n",
    "xEx = 0\n",
    "ex=Annuity(QxNoReduction,i=0)\n",
    "exGT=Annuity(Qx,i=0)\n",
    "\n",
    "exNoGT = ex.CalcPV(gender,xEx,110,param=[s]) -0.5 \n",
    "exGT = exGT.CalcPV(gender,xEx,110,param=[s]) -0.5\n",
    "\n",
    "print(\"Life Expectancy for an %d year olf %.2f and %.2f\"%(xEx,exNoGT,exGT))\n"
   ]
  },
  {
   "cell_type": "code",
   "execution_count": 15,
   "metadata": {},
   "outputs": [
    {
     "name": "stdout",
     "output_type": "stream",
     "text": [
      "Person 1: 82.16, 91.28\n",
      "Person 2: 84.21, 87.18\n"
     ]
    }
   ],
   "source": [
    "x1=25\n",
    "x2=60\n",
    "\n",
    "ex1=Annuity(QxNoReduction,i=0)\n",
    "exGT1=Annuity(Qx,i=0)\n",
    "ex2=Annuity(QxNoReduction,i=0)\n",
    "exGT2=Annuity(Qx,i=0)\n",
    "\n",
    "exNoGT1 = x1+ex1.CalcPV(gender,x1,110,param=[s]) -0.5 \n",
    "exGT1 = x1+exGT1.CalcPV(gender,x1,110,param=[s]) -0.5\n",
    "exNoGT2 = x2+ex2.CalcPV(gender,x2,110,param=[s]) -0.5 \n",
    "exGT2 = x2+exGT2.CalcPV(gender,x2,110,param=[s]) -0.5\n",
    "\n",
    "print(\"Person 1: %.2f, %.2f\"%(exNoGT1,exGT1))\n",
    "print(\"Person 2: %.2f, %.2f\"%(exNoGT2,exGT2))"
   ]
  },
  {
   "cell_type": "code",
   "execution_count": 17,
   "metadata": {},
   "outputs": [
    {
     "name": "stdout",
     "output_type": "stream",
     "text": [
      "Deferred Annuity Ns/Dx\n",
      "\n",
      "KF     7.4694  Recursion     7.4694\n",
      "Difference     0.0000  Rel Error 7.1346e-16\n",
      "\n",
      "What is the price for an annuity of 42000.0\n",
      "\n",
      " Required Single Premium 313713.29094217287\n",
      "\n",
      " EE pa 8963.24\n",
      "in Pct Sal 12.80\n",
      "Employee pays 50 pct\n",
      "Net Salary 65518.38155796896\n",
      "W GT\n",
      "\n",
      "What is the price for an annuity of 42000.0\n",
      "\n",
      " Required Single Premium 416411.3719160814\n",
      "\n",
      " EE pa 11897.47\n",
      "in Pct Sal 17.00\n",
      "Employee pays 50 pct\n",
      "Net Salary 64051.26611548455\n",
      "W GT Until 2050\n",
      "\n",
      "What is the price for an annuity of 42000.0\n",
      "\n",
      " Required Single Premium 368698.0602310688\n",
      "\n",
      " EE pa 10534.23\n",
      "in Pct Sal 15.05\n",
      "Employee pays 50 pct\n",
      "Net Salary 64732.884853841875\n"
     ]
    }
   ],
   "source": [
    "print(\"Deferred Annuity Ns/Dx\\n\")\n",
    "\n",
    "Dx = aex.CommFu(gender,x,\"D\")\n",
    "Nx = aex.CommFu(gender,x,\"N\")\n",
    "Ns = aex.CommFu(gender,s,\"N\")\n",
    "\n",
    "dValKF = Ns/Dx\n",
    "aex.psymB= DeferredBenefit\n",
    "dValueRec= aex.CalcPV(gender,x,110,param=[s])\n",
    "\n",
    "print(\"KF %10.4f  Recursion %10.4f\"%(dValKF,dValueRec))\n",
    "print(\"Difference %10.4f  Rel Error %8.4e\"%(dValKF-dValueRec, (dValKF-dValueRec)/dValueRec))\n",
    "\n",
    "Sal = 70000.\n",
    "R = 0.6*Sal\n",
    "\n",
    "print(\"\\nWhat is the price for an annuity of\", R)\n",
    "\n",
    "EE = R * dValueRec\n",
    "print(\"\\n Required Single Premium\",EE)\n",
    "EE_per_Annum = EE / n\n",
    "EE_pa_per_Sal = EE_per_Annum / Sal\n",
    "print(\"\\n EE pa %.2f\"%(EE_per_Annum))\n",
    "print(\"in Pct Sal %.2f\"%(100*EE_pa_per_Sal ))\n",
    "\n",
    "print(\"Employee pays 50 pct\")\n",
    "print(\"Net Salary\", Sal - 0.5*EE_per_Annum)\n",
    "\n",
    "print(\"W GT\")\n",
    "\n",
    "aexGT.psymB= DeferredBenefit\n",
    "dValueRec= aexGT.CalcPV(gender,x,110,param=[s])\n",
    "\n",
    "\n",
    "print(\"\\nWhat is the price for an annuity of\", R)\n",
    "\n",
    "EE = R * dValueRec\n",
    "print(\"\\n Required Single Premium\",EE)\n",
    "EE_per_Annum = EE / n\n",
    "EE_pa_per_Sal = EE_per_Annum / Sal\n",
    "print(\"\\n EE pa %.2f\"%(EE_per_Annum))\n",
    "print(\"in Pct Sal %.2f\"%(100*EE_pa_per_Sal ))\n",
    "\n",
    "print(\"Employee pays 50 pct\")\n",
    "print(\"Net Salary\", Sal - 0.5*EE_per_Annum)\n",
    "\n",
    "\n",
    "print(\"W GT Until 2050\")\n",
    "\n",
    "aexGT2.psymB= DeferredBenefit\n",
    "dValueRec= aexGT2.CalcPV(gender,x,110,param=[s])\n",
    "\n",
    "\n",
    "print(\"\\nWhat is the price for an annuity of\", R)\n",
    "\n",
    "EE = R * dValueRec\n",
    "print(\"\\n Required Single Premium\",EE)\n",
    "EE_per_Annum = EE / n\n",
    "EE_pa_per_Sal = EE_per_Annum / Sal\n",
    "print(\"\\n EE pa %.2f\"%(EE_per_Annum))\n",
    "print(\"in Pct Sal %.2f\"%(100*EE_pa_per_Sal ))\n",
    "\n",
    "print(\"Employee pays 50 pct\")\n",
    "print(\"Net Salary\", Sal - 0.5*EE_per_Annum)"
   ]
  },
  {
   "cell_type": "markdown",
   "metadata": {},
   "source": [
    "Assume we have reduction in mortality and base our reserves on a table w/o mortality imporvement. How much additional interet is needed?\n",
    "\n",
    "$\\ddot{a}_x(GT, \\tilde{i}) = \\ddot{a}_x(PT, i)$\n"
   ]
  },
  {
   "cell_type": "code",
   "execution_count": 44,
   "metadata": {},
   "outputs": [
    {
     "name": "stdout",
     "output_type": "stream",
     "text": [
      "9.160740159064435\n",
      " 0 Iter. --> L/M/H Value 0.0000 0.5000 0.5000 f(x)  15.80  -9.16  -9.16\n",
      " 1 Iter. --> L/M/H Value 0.0000 0.2500 0.2500 f(x)  15.80  -9.14  -9.14\n",
      " 2 Iter. --> L/M/H Value 0.0000 0.1250 0.1250 f(x)  15.80  -8.76  -8.76\n",
      " 3 Iter. --> L/M/H Value 0.0000 0.0625 0.0625 f(x)  15.80  -6.55  -6.55\n",
      " 4 Iter. --> L/M/H Value 0.0000 0.0312 0.0312 f(x)  15.80  -1.55  -1.55\n",
      " 5 Iter. --> L/M/H Value 0.0156 0.0156 0.0312 f(x)   4.39   4.39  -1.55\n",
      " 6 Iter. --> L/M/H Value 0.0234 0.0234 0.0312 f(x)   0.95   0.95  -1.55\n",
      " 7 Iter. --> L/M/H Value 0.0234 0.0273 0.0273 f(x)   0.95  -0.40  -0.40\n",
      " 8 Iter. --> L/M/H Value 0.0254 0.0254 0.0273 f(x)   0.25   0.25  -0.40\n",
      " 9 Iter. --> L/M/H Value 0.0254 0.0264 0.0264 f(x)   0.25  -0.08  -0.08\n",
      "10 Iter. --> L/M/H Value 0.0259 0.0259 0.0264 f(x)   0.08   0.08  -0.08\n",
      "11 Iter. --> L/M/H Value 0.0261 0.0261 0.0264 f(x)   0.00   0.00  -0.08\n",
      "12 Iter. --> L/M/H Value 0.0261 0.0262 0.0262 f(x)   0.00  -0.04  -0.04\n",
      "13 Iter. --> L/M/H Value 0.0261 0.0262 0.0262 f(x)   0.00  -0.02  -0.02\n",
      "14 Iter. --> L/M/H Value 0.0261 0.0262 0.0262 f(x)   0.00  -0.01  -0.01\n",
      "15 Iter. --> L/M/H Value 0.0261 0.0261 0.0261 f(x)   0.00  -0.00  -0.00\n",
      "16 Iter. --> L/M/H Value 0.0261 0.0261 0.0261 f(x)   0.00   0.00  -0.00\n",
      "17 Iter. --> L/M/H Value 0.0261 0.0261 0.0261 f(x)   0.00  -0.00  -0.00\n",
      "18 Iter. --> L/M/H Value 0.0261 0.0261 0.0261 f(x)   0.00  -0.00  -0.00\n",
      "19 Iter. --> L/M/H Value 0.0261 0.0261 0.0261 f(x)   0.00  -0.00  -0.00\n",
      "Task: Check whether this correct?\n"
     ]
    }
   ],
   "source": [
    "aex.psymB= DeferredBenefit\n",
    "TargetValue = aex.CalcPV(gender,x,110,param=[s])\n",
    "print(TargetValue)\n",
    "iL = 0\n",
    "iH = 1\n",
    "#TARGETQX = QxNoReduction\n",
    "#TARGETQX = QxImproUntil2050\n",
    "TARGETQX = Qx\n",
    "psymNew= Annuity(TARGETQX,i=iL)\n",
    "psymNew.psymB= DeferredBenefit\n",
    "dL = psymNew.CalcPV(gender,x,110,param=[s]) - TargetValue\n",
    "psymNew= Annuity(TARGETQX,i=iH)\n",
    "psymNew.psymB= DeferredBenefit\n",
    "dH = psymNew.CalcPV(gender,x,110,param=[s]) - TargetValue\n",
    "for i in range(20):\n",
    "    iM = 0.5*(iL+ iH)\n",
    "    psymNew= Annuity(TARGETQX,i=iM)\n",
    "    psymNew.psymB= DeferredBenefit\n",
    "    dM = psymNew.CalcPV(gender,x,110,param=[s]) - TargetValue\n",
    "    if dM * dL > 0:\n",
    "        dL = dM\n",
    "        iL = iM\n",
    "    else:\n",
    "        dH = dM\n",
    "        iH = iM\n",
    "    strFormat =\"%2d Iter. --> L/M/H Value %6.4f %6.4f %6.4f f(x) %6.2f %6.2f %6.2f\"\n",
    "    print(strFormat%(i, iL, iM, iH, dL, dM, dH))\n",
    " \n",
    "\n",
    "print(\"Task: Check whether this correct?\")"
   ]
  },
  {
   "cell_type": "code",
   "execution_count": 22,
   "metadata": {},
   "outputs": [
    {
     "name": "stdout",
     "output_type": "stream",
     "text": [
      "Temp Annuity (Nx-Ns)/Dx\n",
      "\n",
      "KF    24.9823  Recursion    24.9823\n",
      "Difference     0.0000  Rel Error 0.0000e+00\n",
      "Recursion    25.1047\n",
      "Recursion    25.4986\n",
      "Recursion    34.3504\n",
      "Recursion    35.0000\n"
     ]
    }
   ],
   "source": [
    "print(\"Temp Annuity (Nx-Ns)/Dx\\n\")\n",
    "\n",
    "dValKF = (Nx-Ns)/Dx\n",
    "aex.psymB= ConstantBenefit\n",
    "dValueRec= aex.CalcPV(gender,x,s,param=[s])\n",
    "\n",
    "print(\"KF %10.4f  Recursion %10.4f\"%(dValKF,dValueRec))\n",
    "print(\"Difference %10.4f  Rel Error %8.4e\"%(dValKF-dValueRec, (dValKF-dValueRec)/dValueRec))\n",
    "\n",
    "\n",
    "def QxNo(gender,x,t,param =[]):\n",
    "    return(0.)\n",
    "\n",
    "aeT_m_i = Annuity(Qx)\n",
    "aeT_nm_i = Annuity(QxNo)\n",
    "aeT_m_ni = Annuity(Qx,i=0)\n",
    "aeT_nm_ni = Annuity(QxNo,i=0)\n",
    "\n",
    "allPoss = [aeT_m_i,aeT_nm_i,aeT_m_ni,aeT_nm_ni]\n",
    "\n",
    "for i in allPoss:\n",
    "    dValueRec= i.CalcPV(gender,x,s,param=[s])\n",
    "    print(\"Recursion %10.4f\"%(dValueRec))\n",
    "\n"
   ]
  },
  {
   "cell_type": "code",
   "execution_count": 32,
   "metadata": {},
   "outputs": [
    {
     "data": {
      "image/png": "[encoded data removed]",
      "text/plain": [
       "<Figure size 640x480 with 1 Axes>"
      ]
     },
     "metadata": {},
     "output_type": "display_data"
    },
    {
     "data": {
      "image/png": "[encoded data removed]",
      "text/plain": [
       "<Figure size 640x480 with 1 Axes>"
      ]
     },
     "metadata": {},
     "output_type": "display_data"
    }
   ],
   "source": [
    "aex=Annuity(QxNoReduction)\n",
    "aexGT=Annuity(Qx)\n",
    "aext=Annuity(QxNoReduction)\n",
    "aexd=Annuity(QxNoReduction)\n",
    "aexd.psymB= DeferredBenefit\n",
    "\n",
    "gender = 0\n",
    "x= 40\n",
    "s= 65\n",
    "omega = 110\n",
    "\n",
    "CFaex = aex.CalcCF(gender,x,omega,periods = 50,param=[])\n",
    "CFaexGT = aexGT.CalcCF(gender,x,omega,periods = 50,param=[])\n",
    "CFaext = aext.CalcCF(gender,x,s,periods = 50,param=[s])\n",
    "CFaexd = aexd.CalcCF(gender,x,omega,periods = 50,param=[s])\n",
    "\n",
    "plt.figure(1)\n",
    "plt.plot(range(len(CFaex)), CFaex,range(len(CFaext)), CFaext,range(len(CFaexd)), CFaexd)\n",
    "plt.grid(True)\n",
    "\n",
    "plt.figure(2)\n",
    "plt.plot(range(len(CFaex)), CFaex,range(len(CFaexGT)), CFaexGT)\n",
    "plt.grid(True)\n",
    "\n",
    "\n"
   ]
  },
  {
   "cell_type": "code",
   "execution_count": 31,
   "metadata": {},
   "outputs": [
    {
     "name": "stdout",
     "output_type": "stream",
     "text": [
      "Immediate Annuity increasing 2% pa  (Nx-Ns)/Dx\n",
      "\n",
      "Immediate Annuity Nx/Dx\n",
      "\n",
      "\n",
      "KF    41.5489  Recursion    41.5489\n",
      "Difference     0.0000  Rel Error 0.0000e+00\n"
     ]
    }
   ],
   "source": [
    "print(\"Immediate Annuity increasing 2% pa  (Nx-Ns)/Dx\\n\")\n",
    "\n",
    "aexNewI=Annuity(QxNoReduction, i=0.)\n",
    "\n",
    "DxNewI = aexNewI.CommFu(gender,x,\"D\")\n",
    "NxNewI = aexNewI.CommFu(gender,x,\"N\")\n",
    "NsNewI = aexNewI.CommFu(gender,s,\"N\")\n",
    "\n",
    "aex.psymB = ExpBenefit\n",
    "\n",
    "print(\"Immediate Annuity Nx/Dx\\n\\n\")\n",
    "dValKF = NxNewI/DxNewI\n",
    "dValueRec= aex.CalcPV(gender,x,110,param=[x,0.02])\n",
    "print(\"KF %10.4f  Recursion %10.4f\"%(dValKF,dValueRec))\n",
    "print(\"Difference %10.4f  Rel Error %8.4e\"%(dValKF-dValueRec, (dValKF-dValueRec)/dValueRec))\n"
   ]
  },
  {
   "cell_type": "markdown",
   "metadata": {},
   "source": [
    "How does inflation impact the price of a deferred annuity\n",
    "\n",
    "inflation rates = 0 - 5 pct in 0.5% increases\n",
    "\n",
    "Want to see the annual approx premium in Sal"
   ]
  },
  {
   "cell_type": "code",
   "execution_count": 10,
   "metadata": {},
   "outputs": [
    {
     "name": "stdout",
     "output_type": "stream",
     "text": [
      "Deferred Annuity Ns/Dx\n",
      "\n",
      "Inflation 0.00, in Pct Sal 14.72\n",
      "Inflation 0.50, in Pct Sal 17.53\n",
      "Inflation 1.00, in Pct Sal 20.90\n",
      "Inflation 1.50, in Pct Sal 24.92\n",
      "Inflation 2.00, in Pct Sal 29.74\n",
      "Inflation 2.50, in Pct Sal 35.52\n",
      "Inflation 3.00, in Pct Sal 42.45\n",
      "Inflation 3.50, in Pct Sal 50.77\n",
      "Inflation 4.00, in Pct Sal 60.75\n",
      "Inflation 4.50, in Pct Sal 72.76\n"
     ]
    },
    {
     "data": {
      "image/png": "[encoded data removed]",
      "text/plain": [
       "<Figure size 432x288 with 1 Axes>"
      ]
     },
     "metadata": {
      "needs_background": "light"
     },
     "output_type": "display_data"
    }
   ],
   "source": [
    "print(\"Deferred Annuity Ns/Dx\\n\")\n",
    "\n",
    "InflationRates = np.arange(0.,0.05,0.005)\n",
    "\n",
    "aex.psymB = DeferredInflationBenefit \n",
    "y=[]\n",
    "\n",
    "for myInfl in InflationRates:\n",
    "    Sal = 70000.\n",
    "    R = 0.6*Sal\n",
    "    dValueRec = aex.CalcPV(gender,x,110,param=[x,myInfl,s])\n",
    "    y.append(dValueRec)\n",
    "#print(\"\\nWhat is the price for an annuity of\", R)\n",
    "    EE = R * dValueRec\n",
    "#print(\"\\n Required Single Premium\",EE)\n",
    "    EE_per_Annum = EE / n\n",
    "    EE_pa_per_Sal = EE_per_Annum / Sal\n",
    "#print(\"\\n EE pa %.2f\"%(EE_per_Annum))\n",
    "    print(\"Inflation %.2f, in Pct Sal %.2f\"%(100*myInfl, 100*EE_pa_per_Sal ))\n",
    "\n",
    "#print(\"Employee pays 50 pct\")\n",
    "#print(\"Net Salary\", Sal - 0.5*EE_per_Annum)\n",
    "\n",
    "plt.figure(1)\n",
    "plt.plot(InflationRates,y)\n",
    "plt.grid(True)"
   ]
  },
  {
   "cell_type": "code",
   "execution_count": 11,
   "metadata": {},
   "outputs": [
    {
     "name": "stdout",
     "output_type": "stream",
     "text": [
      "60 18.33420419892628\n",
      "61 17.815233848867393\n",
      "62 17.295123420713086\n",
      "63 16.774363837344332\n",
      "64 16.253469989708076\n",
      "65 15.73297985575209\n",
      "66 15.21345336312468\n",
      "67 14.695470980821314\n",
      "68 14.179632027225983\n",
      "69 13.66655268484353\n",
      "SP for 65.25?\n",
      "15.603098232595237\n"
     ]
    }
   ],
   "source": [
    "aex.psymB=ConstantBenefit\n",
    "for i in range(60,70):\n",
    "    print(i,aex.CalcPV(gender,i,110,param=[s]))\n",
    "    \n",
    "print(\"SP for 65.25?\")\n",
    "alpha = 0.25\n",
    "EE = (1-alpha) * aex.CalcPV(gender,65,110,param=[s]) + alpha * aex.CalcPV(gender,66,110,param=[s])\n",
    "print(EE)"
   ]
  },
  {
   "cell_type": "code",
   "execution_count": 12,
   "metadata": {},
   "outputs": [
    {
     "name": "stdout",
     "output_type": "stream",
     "text": [
      "How does the PV depend on interest rates\n",
      "Calculate PV for different interest rates\n"
     ]
    },
    {
     "data": {
      "image/png": "[encoded data removed]",
      "text/plain": [
       "<Figure size 432x288 with 1 Axes>"
      ]
     },
     "metadata": {
      "needs_background": "light"
     },
     "output_type": "display_data"
    },
    {
     "data": {
      "image/png": "[encoded data removed]",
      "text/plain": [
       "<Figure size 432x288 with 1 Axes>"
      ]
     },
     "metadata": {
      "needs_background": "light"
     },
     "output_type": "display_data"
    }
   ],
   "source": [
    "import numpy as np\n",
    "print(\"How does the PV depend on interest rates\")\n",
    "x= 30\n",
    "R = 40000\n",
    "s = 65\n",
    "gender = 1\n",
    "print(\"Calculate PV for different interest rates\")\n",
    "\n",
    "InterestRates = np.arange(0.,0.10,0.005)\n",
    "xI  = []\n",
    "yAex = []\n",
    "yAexd = []\n",
    "\n",
    "for iRate in InterestRates:\n",
    "    xI.append(iRate)\n",
    "    aex = Annuity(Qx,i=iRate)\n",
    "    yAex.append(aex.CalcPV(gender,x,110)*R)\n",
    "    aex.psymB= DeferredBenefit\n",
    "    yAexd.append(aex.CalcPV(gender,x,110,param=[s])*R)\n",
    "    \n",
    "plt.figure(1)\n",
    "plt.plot(xI,yAex,xI,yAexd)\n",
    "plt.grid(True)\n",
    "\n",
    "yAexR = []\n",
    "yAexdR = []\n",
    "refIndex = 4 #ie 2%\n",
    "\n",
    "for i in range(len(yAex)):\n",
    "    yAexR.append((yAex[i]-yAex[refIndex])/yAex[refIndex]*100)\n",
    "    yAexdR.append((yAexd[i]-yAexd[refIndex])/yAexd[refIndex]*100)\n",
    "    \n",
    "plt.figure(2)\n",
    "plt.plot(xI,yAexR,xI,yAexdR)\n",
    "plt.ylabel(\"Change in Pct\")\n",
    "plt.xlabel(\"Interst Rate\")\n",
    "plt.grid(True)\n",
    "\n",
    "\n",
    "    \n",
    "    \n"
   ]
  },
  {
   "cell_type": "code",
   "execution_count": null,
   "metadata": {},
   "outputs": [],
   "source": []
  }
 ],
 "metadata": {
  "kernelspec": {
   "display_name": "Python 3 (ipykernel)",
   "language": "python",
   "name": "python3"
  },
  "language_info": {
   "codemirror_mode": {
    "name": "ipython",
    "version": 3
   },
   "file_extension": ".py",
   "mimetype": "text/x-python",
   "name": "python",
   "nbconvert_exporter": "python",
   "pygments_lexer": "ipython3",
   "version": "3.12.4"
  }
 },
 "nbformat": 4,
 "nbformat_minor": 4
}
