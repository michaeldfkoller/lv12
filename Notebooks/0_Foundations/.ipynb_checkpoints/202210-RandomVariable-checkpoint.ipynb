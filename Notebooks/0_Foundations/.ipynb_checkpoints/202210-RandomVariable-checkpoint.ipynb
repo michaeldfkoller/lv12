{
 "cells": [
  {
   "cell_type": "markdown",
   "id": "939e000e",
   "metadata": {},
   "source": [
    "**Future Lifespan**"
   ]
  },
  {
   "cell_type": "markdown",
   "id": "9c030217",
   "metadata": {},
   "source": [
    "We look a person with age $x$ and consider the its future life span as a random variable\n",
    "\n",
    "\n",
    "$T(x): (\\Omega, \\mathcal{A},P) \\to \\mathbb{R}^{+}$\n",
    "\n",
    "Example $T(50)=34.5$ that menas the person dies in 34.5 years at an age of 84.5\n",
    "\n",
    "We define $K(x) = int(T(x))$ ie the above case $K(x) = 34$\n",
    "\n",
    "\\begin{eqnarray*}\n",
    "G(t) = P[T(x) \\le t ]\n",
    "\\end{eqnarray*}\n",
    "\n",
    "Note \n",
    "\n",
    "$T = T(0)$\n",
    "\n",
    "We use the following notation:\n",
    "\n",
    "\\begin{eqnarray*}\n",
    "{}_t q_x & = & P[T< x+t \\, | \\, T \\ge x] \\\\\n",
    "q_x & = & P[T< x+1 \\, | \\, T \\ge x] \\\\\n",
    "{}_t p_x & = & P[T\\ge x+t \\, | \\, T \\ge x] \\\\\n",
    "p_x & = & P[T\\ge x+1 \\, | \\, T \\ge x] \n",
    "\\end{eqnarray*}"
   ]
  },
  {
   "cell_type": "markdown",
   "id": "a27b7a92",
   "metadata": {},
   "source": [
    "\\begin{eqnarray*}\n",
    "{}_{t+s} p_x & = & {}_{s} p_{x+t} \\, {}_{t} p_{x} \\\\\n",
    "{}_{t} | {}_{s} p_x & = & {}_{s} q_{x+t} \\, {}_{t} p_{x}\n",
    "\\end{eqnarray*}\n"
   ]
  },
  {
   "cell_type": "markdown",
   "id": "07893dcc",
   "metadata": {},
   "source": [
    "\\begin{eqnarray*}\n",
    "{}_{t+s} p_x & = & P[T \\ge x+s+t | T \\ge x, T\\ge x+t] \\, P[T\\ge x+t | T \\ge x ] \\\\\n",
    "& = & P[T \\ge x+s+t | T\\ge x+t] \\, P[T\\ge x+t | T \\ge x ] \\\\\n",
    "& = & {}_{s} p_{x+t} \\, {}_{t} p_{x} \\\\\n",
    "\\end{eqnarray*}\n",
    "\n",
    "\\begin{eqnarray*}\n",
    "{}_{n} p_x & = & p_x \\, p_{x+1} \\, \\dots p_{x+n-1} \\\\\n",
    "&= & (1-q_x) \\, (1-q_{x+1}) \\, \\dots (1-q_{x+n-1})\n",
    "\\end{eqnarray*}"
   ]
  },
  {
   "cell_type": "markdown",
   "id": "ce0d1b05",
   "metadata": {},
   "source": [
    "**How do you determine Mortality Rates?**\n",
    "\n",
    "You count the number of at risk in a given year and the respective people dying. \n",
    "\n",
    "On what does mortality depend upon?\n",
    "\n",
    "- Avaiability of Health care --> Countr\n",
    "- Gender ($x$ male, $y$ female)\n",
    "- Year of Birth (date)\n",
    "- Availabilty of Pension system (**) \n",
    "- Smoking status\n",
    "\n",
    "In Switzerland you find three different types of mortality tables: Volkssterblichkeit, Pension Scheme Mortality, Individual Life Tables"
   ]
  },
  {
   "cell_type": "markdown",
   "id": "65ab5afd",
   "metadata": {},
   "source": [
    "**Generational Tables**\n",
    "\n",
    "Problem in annuity mortality is that mortality has been reducing in time. Therefore generational tables were used,\n",
    "\n",
    "$q_{t,x}$\n",
    "\n",
    "where $t$ is calendar year and $x$ is age. The mortality vector for a person today aged $x$ is\n",
    "$q_{t,x},q_{t+1,x+1},q_{t+2,x+2},\\dots$\n",
    "\n",
    "Typically one models mortality as follows:\n",
    "\n",
    "$q_{t,x} = q_{t_0,x} \\times e^{(t-t_0) \\times \\lambda_x}$\n",
    "\n",
    "How do we interpret $\\lambda_x$. This is the reduction of mortality from one year to another."
   ]
  },
  {
   "cell_type": "markdown",
   "id": "08161606",
   "metadata": {},
   "source": [
    "**Medieval Mortality**\n",
    "\n",
    "What we observe is $T(\\omega)$. What we can do is a MLE \n",
    "\n",
    "We are given $t_1, \\dots t_n$. Maximise likelihood wrt observed data\n",
    "\n",
    "Need to maximise $P(T_1=t_1,\\dots T_n=t_n)$. We use asssumed idependence to do the following:\n",
    "\n",
    "\\begin{eqnarray*}\n",
    "\\log(P(T_1=t_1,\\dots T_n=t_n)) &=& \\log(\\prod_{i=1}^nP(T_i=t_i)) \\\\\n",
    "                               &=& \\sum_{i=1}^n\\log(P(T_i=t_i)) \\\\\n",
    "                               &=& \\sum_{i=1}^n\\log({}_1|{}_{t_i-1}q_0) \\\\\n",
    "                                &=& \\sum_{i=1}^n\\log(q_{t_i} \\, (1-q_{t_{i-1}}) \\, \\dots (1-q_{0}))\n",
    "\\end{eqnarray*}\n",
    "\n",
    "For $q_x$ we could use $q_x = e^{a+bx+cx^2}$"
   ]
  },
  {
   "cell_type": "code",
   "execution_count": null,
   "id": "2ab0a723",
   "metadata": {},
   "outputs": [],
   "source": []
  }
 ],
 "metadata": {
  "kernelspec": {
   "display_name": "Python 3 (ipykernel)",
   "language": "python",
   "name": "python3"
  },
  "language_info": {
   "codemirror_mode": {
    "name": "ipython",
    "version": 3
   },
   "file_extension": ".py",
   "mimetype": "text/x-python",
   "name": "python",
   "nbconvert_exporter": "python",
   "pygments_lexer": "ipython3",
   "version": "3.9.7"
  }
 },
 "nbformat": 4,
 "nbformat_minor": 5
}
