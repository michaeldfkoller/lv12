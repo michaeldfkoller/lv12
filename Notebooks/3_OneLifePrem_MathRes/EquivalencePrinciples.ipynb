{
 "cells": [
  {
   "cell_type": "markdown",
   "id": "416ed01f",
   "metadata": {},
   "source": [
    "**Equivalence Principle**\n",
    "\n",
    "- Whole of Life: $A_x$ as a benefit, and $\\ddot{a}_x$ as a premium\n",
    "- Deferred Annuity: ${}_m \\ddot{a}_x$ and $\\ddot{a}_{x:m}$\n",
    "- Mixed Endowment: $A_{x:n}$ and premium $\\ddot{a}_{x:n}$\n",
    "\n",
    "using commutation function. \n",
    "\n",
    "Notes:\n",
    "\n",
    "a) Benefit $1$\n",
    "\n",
    "b) we now $\\Pi = \\frac{PV Benefits}{PV Premium P=1}$"
   ]
  },
  {
   "cell_type": "markdown",
   "id": "bf8a5216",
   "metadata": {},
   "source": [
    "**Whole of Life**\n",
    "\\begin{eqnarray}\n",
    "A_x & = & \\frac{M_x}{D_x} \\\\\n",
    "\\ddot{a}_x &= & \\frac{N_x}{D_x} \\\\[2ex]\n",
    "\\Pi & = & \\frac{M_x}{N_x}\n",
    "\\end{eqnarray}"
   ]
  },
  {
   "cell_type": "markdown",
   "id": "a9ac5b34",
   "metadata": {},
   "source": [
    "**Deferred Annuity**\n",
    "\\begin{eqnarray}\n",
    "{}_m\\ddot{a}_x & = & \\frac{N_{x+m}}{D_x} \\\\\n",
    "\\ddot{a}_{x:m} &= & \\frac{N_x-N_{x+m}}{D_x} \\\\[2ex]\n",
    "\\Pi & = & \\frac{N_{x+m}}{N_x-N_{x+m}}\n",
    "\\end{eqnarray}"
   ]
  },
  {
   "cell_type": "markdown",
   "id": "56133981",
   "metadata": {},
   "source": [
    "**Mixed Endowment**\n",
    "\\begin{eqnarray}\n",
    "A_{x:n} & = & \\frac{M_x-M_{x+n} + D_{x+n}}{D_x} \\\\\n",
    "\\ddot{a}_{x:m} &= & \\frac{N_x-N_{x+m}}{D_x} \\\\[2ex]\n",
    "\\Pi & = & \\frac{M_x-M_{x+n} + D_{x+n}}{N_x-N_{x+m}}\n",
    "\\end{eqnarray}"
   ]
  },
  {
   "cell_type": "markdown",
   "id": "e7aaec6a-4bbd-4a36-b1ef-5d4e7e2ffb95",
   "metadata": {},
   "source": [
    "**Insurance with preium waiver in case of death**\n",
    "\n",
    "What happens her \n",
    "- you get you principal insurance (for example an annuity) \n",
    "- if you die prematurelz you get back your premium\n",
    "\n"
   ]
  },
  {
   "cell_type": "markdown",
   "id": "fc8f75e6-4730-46be-a218-591624a8b903",
   "metadata": {},
   "source": [
    "**Example**\n",
    "\n",
    "You are 25 and want to buy a defferred annuiy paying out after $s=65$ against a premium\n",
    "\n",
    "In this case\n",
    "\n",
    "\\begin{eqnarray*}\n",
    "\\Pi & = & \\frac{{}_m|\\ddot{a}_x}{\\ddot{a}_{x:m}}\n",
    "\\end{eqnarray*}\n",
    "\n",
    "If you die at say 64 you would have lost $29 \\times \\Pi$\n",
    "\n",
    "You can do better by wanting back the premium (undiscounded) in case of death. This changes the formula of the equivalence principle"
   ]
  },
  {
   "cell_type": "markdown",
   "id": "7c058096-6788-4d9e-85a6-cf4402eca9be",
   "metadata": {},
   "source": [
    "\\begin{eqnarray*}\n",
    "PV(Benefits) & = & {}_m|\\ddot{a}_x + \\Pi \\times (IA)_{x:m}^1 \\\\\n",
    "PV(Premium) & = &  \\Pi \\ddot{a}_{x:m}\n",
    "\\end{eqnarray*}"
   ]
  },
  {
   "cell_type": "markdown",
   "id": "0969c0ee-5a8a-4a5c-ad63-539e7bb214f8",
   "metadata": {},
   "source": [
    "**This results into the following formula for the premium:**"
   ]
  },
  {
   "cell_type": "markdown",
   "id": "39764f00-4d68-44fe-a45f-0bcd39a51345",
   "metadata": {},
   "source": [
    "\\begin{eqnarray*}\n",
    "\\Pi & = & \\frac{{}_m|\\ddot{a}_x}{\\ddot{a}_{x:m} - (IA)_{x:m}^1}\n",
    "\\end{eqnarray*}"
   ]
  },
  {
   "cell_type": "markdown",
   "id": "c5f53a58-36e6-4758-81da-aafb3eef388a",
   "metadata": {},
   "source": [
    "**Three typical forms**\n",
    "\n",
    "- the one above\n",
    "- the one above but ${}_mE_x$ instead of ${}_m|\\ddot{a}_x$\n",
    "- \"Vollstaendige Rueckgewaehr\" The death benefit for the annuity contiunes after the start of the annuitz na the death benefit is reduced by the annuities paid"
   ]
  },
  {
   "cell_type": "markdown",
   "id": "cac8ad0f-d6fd-4680-81ed-b542851d19ed",
   "metadata": {},
   "source": [
    "**How is the death benefit in case of teh last form**"
   ]
  },
  {
   "cell_type": "markdown",
   "id": "2088229d-84db-40f6-973c-4e1d23e91218",
   "metadata": {},
   "source": [
    "\\begin{eqnarray*}\n",
    "PV(Benefits) & = & {}_m|\\ddot{a}_x + \\Pi \\times (IA)_{x:m}^1 + {}_m(DA)_{x:k}^1\\\\\n",
    "PV(Premium) & = &  \\Pi \\ddot{a}_{x:m}\n",
    "\\end{eqnarray*}"
   ]
  },
  {
   "cell_type": "markdown",
   "id": "b64c3ae2-a2fc-4cb4-b7f2-fb8bddb4b6cc",
   "metadata": {},
   "source": [
    "*Deferred Death Benefit*\n",
    "\n",
    "Example at 65 before paying out the benefit is $\\Pi m$\n",
    "\n",
    "Example at 65 after paying out the benefit is $\\Pi (m-1)$"
   ]
  },
  {
   "cell_type": "markdown",
   "id": "09227c29-e58e-4bd7-9301-bcb7240752cf",
   "metadata": {},
   "source": [
    "Benefit at age $65 +k$\n",
    "\n",
    "$\\max\\{0,\\Pi m-1-k\\}$"
   ]
  },
  {
   "cell_type": "code",
   "execution_count": null,
   "id": "aaaf7d5c-6199-45d5-9e80-68a2d0c5cbaa",
   "metadata": {},
   "outputs": [],
   "source": []
  }
 ],
 "metadata": {
  "kernelspec": {
   "display_name": "Python 3 (ipykernel)",
   "language": "python",
   "name": "python3"
  },
  "language_info": {
   "codemirror_mode": {
    "name": "ipython",
    "version": 3
   },
   "file_extension": ".py",
   "mimetype": "text/x-python",
   "name": "python",
   "nbconvert_exporter": "python",
   "pygments_lexer": "ipython3",
   "version": "3.12.4"
  }
 },
 "nbformat": 4,
 "nbformat_minor": 5
}
