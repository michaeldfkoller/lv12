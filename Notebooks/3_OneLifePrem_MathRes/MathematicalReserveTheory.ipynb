{
 "cells": [
  {
   "cell_type": "markdown",
   "id": "a82a9f3f-a1a8-4688-8b01-6b25169654e7",
   "metadata": {},
   "source": [
    "The mathematical reserve is defined as expected PV of future benefits - expected PV of future premium."
   ]
  },
  {
   "cell_type": "markdown",
   "id": "9aa55e2b-e3b1-479b-a6a6-c46a938bad83",
   "metadata": {},
   "source": [
    "Take a general insurance on one life with benefits $C_k$ and Premium $\\Pi_k$ for ages $k$. Assume that\n",
    "\n",
    "a) Policy inception at age $x$ and\n",
    "\n",
    "b) Mathematical Reserve at $k$ years ${}_kV_x$"
   ]
  },
  {
   "cell_type": "markdown",
   "id": "1feba173-023e-4be6-b0a9-9207ee2a27c6",
   "metadata": {},
   "source": [
    "**PV Benefits**\n",
    "\n",
    "$\\sum_{j=0}^\\infty C_{x+k+j} v^{j+1} {}_jp_{x+k} q_{x+k+j}$\n",
    "\n",
    "We know the Recursion:\n",
    "\n",
    "We can also calculate this recursively as follows:\n",
    "\n",
    "\\begin{eqnarray}\n",
    "A_s^{gen} &=& m(s) \\\\\n",
    "A_x^{gen} &=& q_x \\times v \\times b(x) + p_x \\times v \\times A_{x+1}^{gen}\n",
    "\\end{eqnarray}\n"
   ]
  },
  {
   "cell_type": "markdown",
   "id": "da04f791-fe52-48b3-991e-a9d2eca816d3",
   "metadata": {},
   "source": [
    "**PV Premium**\n",
    "\n",
    "$\\sum_{j=0}^\\infty \\Pi_{x+k+j} v^{j} {}_jp_{x+k} $\n",
    "\n",
    "We know the Recursion:\n",
    "\n",
    "\\begin{eqnarray}\n",
    "\\ddot{a}_x^{gen} &=&  \\Pi_x + p_x \\times v \\times \\ddot{a}_{x+1}^{gen}\n",
    "\\end{eqnarray}\n",
    "\n"
   ]
  },
  {
   "cell_type": "markdown",
   "id": "f1f5a727-1fc4-456b-a751-8ea59df8d8c9",
   "metadata": {},
   "source": [
    "This results in the following formula for the **Mathematical Reserve**\n",
    "\n",
    "${}_kV_x = \\sum_{j=0}^\\infty C_{x+k+j} v^{j+1} {}_jp_{x+k} q_{x+k+j} - \\sum_{j=0}^\\infty \\Pi_{x+k+j} v^{j} {}_jp_{x+k} $\n",
    "\n",
    "and we get the following recursion:\n",
    "\n",
    "$ {}_kV_x + \\Pi_{x+k} = C_{x+k+1} \\, v \\, q_{x+k} + v \\, p_x \\, {}_{k+1} V_x$\n",
    "\n",
    "This recursion is called Thiele's Difference Equation.\n"
   ]
  },
  {
   "cell_type": "markdown",
   "id": "417b1a88-a63d-4aa7-a53c-33ab58207283",
   "metadata": {},
   "source": [
    "**Savings and Risk Premium**"
   ]
  },
  {
   "cell_type": "markdown",
   "id": "51e6f665-89b5-4eba-a4c7-ba56eae7557b",
   "metadata": {},
   "source": [
    "$\\Pi_x^{savings} = v \\, V_{x+1} - V_x$\n",
    "\n",
    "$\\Pi_x^{risk} = (C_{x+1} - V_{x+1}) \\, v \\, q_x$"
   ]
  },
  {
   "cell_type": "markdown",
   "id": "0721b60f-e321-4177-99a8-4d6a7c6d0c36",
   "metadata": {},
   "source": [
    "$\\Pi_x^{savings} +  \\Pi_x^{risk}= v \\, V_{x+1} - V_x + (C_{x+1} - V_{x+1}) \\, v \\, q_x = -V_x + \\Pi_{x} + V_x = \\Pi_x$"
   ]
  },
  {
   "cell_type": "markdown",
   "id": "201454ae-ef64-49f3-a604-435f861d6714",
   "metadata": {},
   "source": [
    "**Why is risk premium important**\n",
    "\n",
    "Because we can measure the technical profit of our portfolio\n",
    "\n",
    "Assume we have a portfolio of $n$ policies with people aged $x$ and denote with $I_k$ the indicator function indicating whether person $k$ has died. Then we can calculate the loss as follows, assuming that person $k$ has a death benefit $C_k$ and a mathematical reserves $V_k$, both at the end of the year."
   ]
  },
  {
   "cell_type": "markdown",
   "id": "e7badc8d-75f2-40a4-8431-a940c842b4d6",
   "metadata": {},
   "source": [
    "$L = \\sum_{k=1}^n I_k \\, (C_k - V_k)\\,v$ and in expectation\n",
    "\n",
    "$\\mathbb{E}[L]= \\sum_{k=1}^n \\mathbb{E}[I_k] \\, (C_k - V_k) \\, v = \\sum_{k=1}^n q_k^2 \\, (C_k - V_k) \\, v$\n",
    "\n",
    "where $q_x^2$ denotes effective mortality as opposed to $q_x$ which denotes assumed mortality for the product."
   ]
  },
  {
   "cell_type": "markdown",
   "id": "c666db86-7734-41dc-97bc-5e61219b3b96",
   "metadata": {},
   "source": [
    "Example: Assume a risk premium in a portfolio of 120 M and a loss of 90M. In this case the loss ratio is $\\frac{q_x^2}{q_x}=\\frac{90}{120} =0.75$"
   ]
  },
  {
   "cell_type": "code",
   "execution_count": null,
   "id": "07f4994a-d29c-495e-967b-dfc01f0b60d5",
   "metadata": {},
   "outputs": [],
   "source": []
  },
  {
   "cell_type": "code",
   "execution_count": null,
   "id": "7b87a070-7071-4c5f-be79-500ff5429df0",
   "metadata": {},
   "outputs": [],
   "source": []
  }
 ],
 "metadata": {
  "kernelspec": {
   "display_name": "Python 3 (ipykernel)",
   "language": "python",
   "name": "python3"
  },
  "language_info": {
   "codemirror_mode": {
    "name": "ipython",
    "version": 3
   },
   "file_extension": ".py",
   "mimetype": "text/x-python",
   "name": "python",
   "nbconvert_exporter": "python",
   "pygments_lexer": "ipython3",
   "version": "3.12.4"
  }
 },
 "nbformat": 4,
 "nbformat_minor": 5
}
