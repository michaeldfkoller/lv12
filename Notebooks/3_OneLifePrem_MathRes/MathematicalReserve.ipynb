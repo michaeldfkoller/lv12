{
 "cells": [
  {
   "cell_type": "markdown",
   "id": "a7a7ec22-1da6-4fa4-966b-d44f508f4be6",
   "metadata": {},
   "source": [
    "**Mathematical Reserve (Deckungskapital)**\n",
    "\n",
    "- The concept to determine the value of an insurance after inception\n",
    "- Used to determine the the amount of assets needed to safeguard the insurance\n",
    "- Needed to calculate a change in insurance (the MR is used as a single premium)\n",
    "- The mathematical reserve is used also to decompose the premium into risk and safings premium"
   ]
  },
  {
   "cell_type": "markdown",
   "id": "68e8a312-24ae-4f0a-b705-d14388379525",
   "metadata": {},
   "source": [
    "**Definition**\n",
    "\n",
    "The mathematical reserve at a given time is defined as the PV(future benefits) - PV(future premium)"
   ]
  },
  {
   "cell_type": "markdown",
   "id": "f11775fe-fe58-4f3f-97df-416c8a47ab03",
   "metadata": {},
   "source": [
    "- Denote it as ${}_kV_x$, where $x$ age at inception and $k$ policy years\n",
    "- ${}_0V_x = 0$ by equivalence principle"
   ]
  },
  {
   "cell_type": "markdown",
   "id": "9cc4eec1-a1b8-41c4-921e-66030a91d2c6",
   "metadata": {},
   "source": [
    "**Example explict calculation**\n",
    "\n",
    "- Example $A_{x:n}$ mixed endowment with Premium $\\Pi$ according to $\\ddot{a}_{x:n}$\n",
    "- We calculate the premium\n",
    "\n",
    "\\begin{eqnarray*}\n",
    "PV(Benefits) & = & \\frac{M_x-M_{x+n}+D_{x+n}}{D_x} \\\\\n",
    "PV(Premium) & = & \\Pi \\times \\frac{N_x-N_{x+n}}{D_x} \\\\\n",
    "\\Pi  & = & \\frac{M_x-M_{x+n}+D_{x+n}}{N_x-N_{x+n}}\n",
    "\\end{eqnarray*}\n",
    "\n",
    "- Now we calculate ${}_kV_x$"
   ]
  },
  {
   "cell_type": "markdown",
   "id": "0705d669-461d-4123-8249-1c100e9261a8",
   "metadata": {},
   "source": [
    "\\begin{eqnarray*}\n",
    "PV(Future Benefits) & = & \\frac{M_{x+k}-M_{x+n}+D_{x+n}}{D_{x+k}} \\\\\n",
    "PV(Future Premium) & = & \\Pi \\times \\frac{N_{x+k}-N_{x+n}}{D_{x+k}} \\\\\n",
    "\\end{eqnarray*}"
   ]
  },
  {
   "cell_type": "markdown",
   "id": "8d1a493e-7ffa-41f5-aacc-5c1ba0e2108c",
   "metadata": {},
   "source": [
    "\\begin{eqnarray*}\n",
    "{}_kV_x & = & \\frac{M_{x+k}-M_{x+n}+D_{x+n} - \\Pi \\times (N_{x+k}-N_{x+n})}{D_{x+k}} \\\\\n",
    "\\end{eqnarray*}"
   ]
  },
  {
   "cell_type": "markdown",
   "id": "e8c19daa-54e2-46ad-a310-3b8ad0c9f148",
   "metadata": {},
   "source": [
    "**Recursion**\n",
    "\\begin{eqnarray*}\n",
    "A_{x,n} & = & q_x \\times v + p_x \\times v \\times A_{x+1,n-1} \\\\\n",
    "\\ddot{a}_{x,n} & = & 1 + p_x \\times v \\times \\ddot{a}_{x+1,n-1} \\\\\n",
    "\\end{eqnarray*}"
   ]
  },
  {
   "cell_type": "markdown",
   "id": "6468a74b-84b4-44fc-b9a0-fa7f9ebc09e6",
   "metadata": {},
   "source": [
    "- if you deduct the second formuls (times $\\Pi$) from the first one \n",
    "- you get the following recusion for the reserve"
   ]
  },
  {
   "cell_type": "markdown",
   "id": "5734d043-cc2e-43ba-befb-21573aa06fc3",
   "metadata": {},
   "source": [
    "\\begin{eqnarray*}\n",
    "{}_kV_x &=& A_{x,n} - \\Pi \\times \\ddot{a}_{x,n} \\\\\n",
    "        & = & q_x \\times v + p_x \\times v \\times A_{x+1,n-1} \\\\\n",
    "&& - \\Pi \\times ( 1 + p_x \\times v \\times \\ddot{a}_{x+1,n-1}) \\\\\n",
    " & = & -\\Pi +  q_x \\times v + p_x \\times v \\times {}_{k+1}V_x\n",
    "\\end{eqnarray*}\n",
    "\n",
    "\\begin{eqnarray*}\n",
    "\\frac{{}_kV_x -(-\\Pi +  q_x \\times v )}{p_x \\times v} = {}_{k+1}V_x\n",
    "\\end{eqnarray*}"
   ]
  },
  {
   "cell_type": "markdown",
   "id": "57a5a76d-13a1-4270-a72e-a67f98efd06f",
   "metadata": {},
   "source": [
    "**Generalisation**\n",
    "\n",
    "- Benefit Vector: $C_k$ death benefit at policy year $k$\n",
    "- Premium Vector: $\\Pi_k$ at the begining of policy year $k+1$\n",
    "- Now the recursion reads:\n"
   ]
  },
  {
   "cell_type": "markdown",
   "id": "28395cc3-1cca-4ba4-bbec-1dafa5e5c747",
   "metadata": {},
   "source": [
    "\\begin{eqnarray*}\n",
    "{}_kV_x & = & -\\Pi_k +  q_x \\times v \\times C_{k+1} + p_x \\times v \\times {}_{k+1}V_x\n",
    "\\end{eqnarray*}\n",
    "\n",
    "or equivalent \n",
    "\n",
    "\\begin{eqnarray*}\n",
    "{}_kV_x + \\Pi_k & = &  q_x \\times v \\times C_{k+1} + p_x \\times v \\times {}_{k+1}V_x\n",
    "\\end{eqnarray*}\n",
    "\n"
   ]
  },
  {
   "cell_type": "markdown",
   "id": "c4140bae-ad08-465e-8183-d0a5057cf558",
   "metadata": {},
   "source": [
    "**Transformation**\n",
    "\\begin{eqnarray*}\n",
    "{}_kV_x + \\Pi_k & = &  q_x \\times v \\times C_{k+1} + p_x \\times v \\times {}_{k+1}V_x \\\\\n",
    "{}_kV_x + \\Pi_k & = &  q_x \\times v \\times C_{k+1} + (1-q_x) \\times v \\times {}_{k+1}V_x \\\\\n",
    "({}_kV_x - v \\times {}_{k+1}V_x) + \\Pi_k & = &  q_x \\times v \\times (C_{k+1} - {}_{k+1}V_x)  \n",
    "\\end{eqnarray*}"
   ]
  },
  {
   "cell_type": "markdown",
   "id": "12606b80-f0fe-4bd9-a4fa-bc1f7764aae1",
   "metadata": {},
   "source": [
    "**Risk and Savings Premium**\n",
    "\n",
    "- Savings Preium $\\Pi^s = v \\times {}_{k+1}V_x - {}_kV_x$ \n",
    "- Risk Premium $\\Pi^r = q_x \\times v \\times (C_{k+1} - {}_{k+1}V_x)$ "
   ]
  },
  {
   "cell_type": "markdown",
   "id": "78a6deb7-cfd0-40ce-813a-6d74c80a0625",
   "metadata": {},
   "source": [
    "\\begin{eqnarray*}\n",
    "({}_kV_x - v \\times {}_{k+1}V_x) + \\Pi_k & = &  q_x \\times v \\times (C_{k+1} - {}_{k+1}V_x) \\\\\n",
    "-\\Pi_{k}^s + \\Pi_k & = & \\Pi_{k}^r \\\\\n",
    " \\Pi_k & = & \\Pi_{k}^r + \\Pi_{k}^s  \n",
    "\\end{eqnarray*}"
   ]
  },
  {
   "cell_type": "markdown",
   "id": "779895ee-a2d2-4051-bbe8-cfed96dce48d",
   "metadata": {},
   "source": [
    "**Technical Profit**\n",
    "\n",
    "- As a consequence of the equivalence principle the expected profit and loss per period is zero\n",
    "- In reality a mortality table with best estimates is called a second order basis\n",
    "- For pricing one uses a first order motality table. For annuities mortality is gererally lowered and for capital insurance increased\n",
    "- For example ERM95 has about a margin of 10-15%, which means if $q_{67} = 1.15\\%$, the effective mortality is c1\\%\n",
    "- Assume that we have $n$ people with an age of 67 and $I_n$ is a RV which is 1 if person n dies and 0 else."
   ]
  },
  {
   "cell_type": "markdown",
   "id": "fb622465-d478-48f5-bba4-1351230c5b92",
   "metadata": {},
   "source": [
    "The loss of the portfolio is\n",
    "\n",
    "\\begin{eqnarray*}\n",
    "L(\\omega) & = & \\sum_{j=1}^n I_j(\\omega) \\times v \\times (C_{k+1} - {}_{k+1}V_x) \\\\\n",
    "\\mathbb{E}[L(\\omega)] & = & \\sum_{j=1}^n \\mathbb{E}[I_j(\\omega)] \\times v \\times (C_{k+1} - {}_{k+1}V_x) \\\\\n",
    "& = & q_{67}^2 \\sum_{j=1}^n v \\times (C_{k+1} - {}_{k+1}V_x)\n",
    "\\end{eqnarray*}"
   ]
  },
  {
   "cell_type": "markdown",
   "id": "b74162d2-eebc-4a2f-bc5a-1ac5b4b1b6e9",
   "metadata": {},
   "source": [
    "**Per Policy the Profit and Loss**\n",
    "\n",
    "\\begin{eqnarray*}\n",
    "PnL^{risk} & = & (q^1_{67} - q^2_{67}) \\times v \\times (C_{k+1}^j - {}_{k+1}V_x^j)\n",
    "\\end{eqnarray*}"
   ]
  },
  {
   "cell_type": "markdown",
   "id": "c0943ac5-ebbd-46ab-bd65-24a2e859f8b5",
   "metadata": {},
   "source": [
    "**What you do in practise**\n",
    "\n",
    "a) You calculate the sum of the risk premium according the undering assumptions\n",
    "\n",
    "$RP_{tot}\\sum_k \\Pi^r(k)$\n",
    "\n",
    "b) You calculate the respective losses\n",
    "\n",
    "$L(\\omega)  =  \\sum_k I_k(\\omega) \\times v \\times (C(k) - V(k))$\n",
    "\n",
    "c) Technical Profit Loss is $RP_{tot} - L(\\omega) $\n",
    "\n",
    "d) You also consider $\\frac{L(\\omega)}{RP_{tot}}$ which is the loss ratio"
   ]
  },
  {
   "cell_type": "code",
   "execution_count": null,
   "id": "c8abc273-566e-4bb1-b8a2-9d2d11397375",
   "metadata": {},
   "outputs": [],
   "source": []
  },
  {
   "cell_type": "code",
   "execution_count": null,
   "id": "22c79f74-ca53-4a0f-b980-a6f30a2ddb61",
   "metadata": {},
   "outputs": [],
   "source": []
  }
 ],
 "metadata": {
  "kernelspec": {
   "display_name": "Python 3 (ipykernel)",
   "language": "python",
   "name": "python3"
  },
  "language_info": {
   "codemirror_mode": {
    "name": "ipython",
    "version": 3
   },
   "file_extension": ".py",
   "mimetype": "text/x-python",
   "name": "python",
   "nbconvert_exporter": "python",
   "pygments_lexer": "ipython3",
   "version": "3.12.4"
  }
 },
 "nbformat": 4,
 "nbformat_minor": 5
}
