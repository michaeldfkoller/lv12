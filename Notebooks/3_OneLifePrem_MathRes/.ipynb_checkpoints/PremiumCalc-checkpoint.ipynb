{
 "cells": [
  {
   "cell_type": "markdown",
   "id": "0f56009e-ace3-47ee-ac98-d11c3a4f4ba3",
   "metadata": {},
   "source": [
    "To determine the premium of a life insurance one typically uses the **Equivalence Principle**"
   ]
  },
  {
   "cell_type": "markdown",
   "id": "30df2d3a-2fe9-45c1-b4b5-fd3552b8a15b",
   "metadata": {},
   "source": [
    "This means that\n",
    "\n",
    "a) $\\mathbb{E}[L] = 0$ where $L$ denotes the loss\n",
    "\n",
    "or equivalent\n",
    "\n",
    "b) The expected Present Value of Benefits is equal to the Expected Present Value of Premium\n",
    "\n",
    "**at Inception of the contract**"
   ]
  },
  {
   "cell_type": "markdown",
   "id": "0b5aa50e-3082-4f77-9f4f-2bb6861ee996",
   "metadata": {},
   "source": [
    "The **Mathematical Reserve** (Deckungskapital) at a point in time is the Expected Present Value of future Benefits - the expected present value of future premium.\n",
    "\n",
    "The equivanlence Principle is equivalent to the requirement of the Mathematical Reserve at inception to be zero"
   ]
  },
  {
   "cell_type": "markdown",
   "id": "0f214ac1-7ab5-44a1-9553-ec6eaeca2fb6",
   "metadata": {},
   "source": [
    "*Examples:*\n",
    "\n",
    "a) Whole of Life \n",
    "\n",
    "b) Temporary Death Benefit\n",
    "\n",
    "c) Endowment\n",
    "\n",
    "d) Deferred Annuity\n",
    "\n",
    "\n",
    "What is important is that the duration of the premium payment can be shorter than the duration of the benefit payments - for example a temporary death benefit for 10 years financed by 5 premiums.\n"
   ]
  },
  {
   "cell_type": "markdown",
   "id": "ba32ca91-9868-4fe4-84d8-91ee444b966b",
   "metadata": {},
   "source": [
    "**Whole of Life**\n",
    "\n",
    "$A_x$ --> benefit of C\n",
    "\n",
    "Premium $\\Pi$ payable for m years"
   ]
  },
  {
   "cell_type": "markdown",
   "id": "49625f29-5b1e-4824-9f8c-fd96ec1f19df",
   "metadata": {},
   "source": [
    "$L = C \\times v^{K+1} - \\Pi \\times \\ddot{a}_{\\min({m,K})}$\n",
    "\n",
    "We require $\\mathbb{E}[L] = 0$"
   ]
  },
  {
   "cell_type": "markdown",
   "id": "db6f96f3-fa44-4574-b3a1-dcc1e5040b87",
   "metadata": {},
   "source": [
    "$C \\times A_x = \\Pi \\ddot{a}_{x:m}$\n",
    "\n",
    "$C \\times \\sum_{k=0}^\\infty v^{k+1} {}_kp_x q_{x+k} = \\Pi \\times \\sum_{k=0}^{m}v^{k} {}_kp_x$\n",
    "\n",
    "$\\Pi = C \\times \\frac{\\sum_{k=0}^\\infty v^{k+1} {}_kp_x q_{x+k}}{\\sum_{k=0}^{m}v^{k} {}_kp_x} = C \\times \\frac{\\frac{M_x}{D_x}}{\\frac{N_x-N_{x+m}}{D_x}} = C \\times \\frac{M_x}{N_x-N_{x+m}}$"
   ]
  },
  {
   "cell_type": "markdown",
   "id": "1bfddfa4-205f-4866-ad6b-cf01f90e0da5",
   "metadata": {},
   "source": [
    "**Temporary death benefit n years**\n",
    "\n",
    "$A_{x:n}^1$ --> benefit of C\n",
    "\n",
    "Premium $\\Pi$ payable for m years"
   ]
  },
  {
   "cell_type": "markdown",
   "id": "bf36146d-47fa-47ca-9317-88062f20fb76",
   "metadata": {},
   "source": [
    "$L = C \\times v^{\\min({n,K})+1} - \\Pi \\times \\ddot{a}_{\\min({m,K})}$\n",
    "\n",
    "We require $\\mathbb{E}[L] = 0$"
   ]
  },
  {
   "cell_type": "markdown",
   "id": "ddaf9281-1f3c-41bf-b786-df6bc5088c7d",
   "metadata": {},
   "source": [
    "$\\Pi = C \\times \\frac{\\sum_{k=0}^{n-1} v^{k+1} {}_kp_x q_{x+k}}{\\sum_{k=0}^{m}v^{k} {}_kp_x} = C \\times \\frac{\\frac{M_x-M_{x+n}}{D_x}}{\\frac{N_x-N_{x+m}}{D_x}} = C \\times \\frac{M_x-M_{x+n}}{N_x-N_{x+m}}$"
   ]
  },
  {
   "cell_type": "markdown",
   "id": "ad75752f-860c-4068-b61a-ca3cd3138a5a",
   "metadata": {},
   "source": [
    "**Pure Endowment benefit n years**\n",
    "\n",
    "${}_{n}E_x$ --> benefit of C\n",
    "\n",
    "Premium $\\Pi$ payable for m years"
   ]
  },
  {
   "cell_type": "markdown",
   "id": "886796a5-2d37-4663-8f93-12c139cfb364",
   "metadata": {},
   "source": [
    "$\\Pi = C \\times  \\frac{v^{n} {}_np_x}{\\sum_{k=0}^{m}v^{k} {}_kp_x} = C \\times \\frac{D_{x+n}}{N_x-N_{x+m}}$"
   ]
  },
  {
   "cell_type": "markdown",
   "id": "fd1e84fa-bea3-4185-8b6b-1c05b6ed40d3",
   "metadata": {},
   "source": [
    "**Endowment benefit n years**\n",
    "\n",
    "$A_{x:n}$ --> benefit of C\n",
    "\n",
    "Premium $\\Pi$ payable for m years"
   ]
  },
  {
   "cell_type": "markdown",
   "id": "7d874ed7-17e4-4f83-9164-271b0cb16b1d",
   "metadata": {},
   "source": [
    "$\\Pi = C \\times \\frac{D_{x+n}+M_x-M_{x+n}}{N_x-N_{x+m}}$"
   ]
  },
  {
   "cell_type": "code",
   "execution_count": null,
   "id": "47801e07-7b8e-46bd-afa8-bfea2163a9e2",
   "metadata": {},
   "outputs": [],
   "source": []
  }
 ],
 "metadata": {
  "kernelspec": {
   "display_name": "Python 3 (ipykernel)",
   "language": "python",
   "name": "python3"
  },
  "language_info": {
   "codemirror_mode": {
    "name": "ipython",
    "version": 3
   },
   "file_extension": ".py",
   "mimetype": "text/x-python",
   "name": "python",
   "nbconvert_exporter": "python",
   "pygments_lexer": "ipython3",
   "version": "3.12.4"
  }
 },
 "nbformat": 4,
 "nbformat_minor": 5
}
