{
 "cells": [
  {
   "cell_type": "markdown",
   "metadata": {},
   "source": [
    "**How to model with Markov Models**\n",
    "\n",
    "**Step 1**: Determine a relevant state space\n",
    "\n",
    "Exa $\\ddot{a}_x$. In this case $S = \\{ \\star, \\dagger\\}$\n",
    "\n",
    "**Step 2**: Determine the state space diagram, ie the possible transitions between states.\n",
    "\n",
    "Exa: $\\star \\to \\star$, or $\\star \\to \\dagger$ or $\\dagger \\to \\dagger$"
   ]
  },
  {
   "cell_type": "markdown",
   "metadata": {},
   "source": [
    "**Step 3:** Determine the relevant transition probabilities. We are actually free how to interpret $t$ we assume $t \\equiv x$.\n",
    "\n",
    "\\begin{eqnarray}\n",
    "p_{\\star \\, \\star}(x,x+1) = p_x \\\\\n",
    "p_{\\star \\, \\dagger}(x,x+1) = q_x \\\\\n",
    "p_{\\dagger \\, \\dagger}(x,x+1) = 1 \\\\\n",
    "\\end{eqnarray}\n",
    "\n",
    "\n",
    "Matrix \n",
    "\n",
    "\\begin{eqnarray}\n",
    "p_x & \\, & q_x \\\\\n",
    "0 & \\, & 1\n",
    "\\end{eqnarray}"
   ]
  },
  {
   "cell_type": "markdown",
   "metadata": {},
   "source": [
    "**Step 4:** Model the benefit by means of benefit function.\n",
    "\n",
    "Exa: The only nontrival benefit function is $a^{Pre}_{\\star}(x) = 1$\n",
    "\n",
    "**Step 5:** Use Thiele difference equation to calculate the mathematical reseves"
   ]
  },
  {
   "cell_type": "markdown",
   "metadata": {},
   "source": [
    "**Example Insuance of two lives**\n",
    "\n",
    "\n",
    "**Step 1**: Determine a relevant state space\n",
    "\n",
    "In this case $S = \\{ \\star, \\dagger\\} \\times \\{ \\star, \\dagger\\} = \\{(\\star,\\star), (\\star,\\dagger), (\\dagger,\\star), (\\dagger,\\dagger) \\} $\n",
    "\n",
    "**Step 2**: Determine the state space diagram, ie the possible transitions between states.\n",
    "\n",
    "This is Fig 10.7 on p98 of the script\n",
    "    \n",
    "**Step 3:** Determine the relevant transition probabilities. We are actually free how to interpret $t$ we assume $t \\equiv x$. When we write $y$ we mean the corresponding $y(x)$. In the following we assume that the life span of the two people are independent.\n",
    "\n",
    "\\begin{eqnarray}\n",
    "p_{(\\star\\star) \\, (\\star\\star)}(x,x+1) &=& p_x \\; p_y \\\\\n",
    "p_{(\\star\\star) \\, (\\dagger\\star)}(x,x+1) &=& q_x \\; p_y \\\\\n",
    "p_{(\\star\\star) \\, (\\star\\dagger)}(x,x+1) &=& p_x \\; q_y \\\\\n",
    "p_{(\\star\\star) \\, (\\dagger\\dagger)}(x,x+1) &=& q_x \\; q_y \\\\[1ex]\n",
    "p_{(\\star\\dagger) \\, (\\star\\dagger)}(x,x+1) &=& p_x  \\\\\n",
    "p_{(\\star\\dagger) \\, (\\dagger\\dagger)}(x,x+1) &=& q_x \\\\[1ex] \n",
    "p_{(\\dagger\\star) \\, (\\dagger\\star)}(x,x+1) &=& p_y  \\\\\n",
    "p_{(\\dagger\\star) \\, (\\dagger\\dagger)}(x,x+1) &=& q_y \\\\[1ex] \n",
    "p_{(\\dagger\\dagger) \\, (\\dagger\\dagger)}(x,x+1) &=& 1 \n",
    "\\end{eqnarray}\n",
    "\n",
    "**Step 4:** Model the benefit by means of benefit function.\n",
    "\n",
    "**Exa 1:** Joint annuity --> $a^{Pre}_{\\star\\star}(x) = 1$ \n",
    "\n",
    "**Exa 2:** Last survivor annuity --> $a^{Pre}_{\\star\\star}(x) = 1, a^{Pre}_{\\star\\dagger}(x) = 1, a^{Pre}_{\\dagger\\star}(x) = 1$\n",
    "\n",
    "**Exa 3:** Widows pension --> $a^{Pre}_{\\dagger\\star}(x) = 1$\n"
   ]
  },
  {
   "cell_type": "code",
   "execution_count": null,
   "metadata": {},
   "outputs": [],
   "source": []
  }
 ],
 "metadata": {
  "kernelspec": {
   "display_name": "Python 3 (ipykernel)",
   "language": "python",
   "name": "python3"
  },
  "language_info": {
   "codemirror_mode": {
    "name": "ipython",
    "version": 3
   },
   "file_extension": ".py",
   "mimetype": "text/x-python",
   "name": "python",
   "nbconvert_exporter": "python",
   "pygments_lexer": "ipython3",
   "version": "3.12.4"
  }
 },
 "nbformat": 4,
 "nbformat_minor": 4
}
