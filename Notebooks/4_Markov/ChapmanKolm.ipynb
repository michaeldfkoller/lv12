{
 "cells": [
  {
   "cell_type": "markdown",
   "metadata": {},
   "source": [
    "**Markov Chains and Chapman-Kolmogoroff**\n",
    "\n",
    "Probabilty Space $(\\Omega,\\mathcal{A},P)$ "
   ]
  },
  {
   "cell_type": "markdown",
   "metadata": {},
   "source": [
    "$X: (\\Omega,\\mathcal{A},P) \\times \\mathbb{R} \\to S, (\\omega,t) \\mapsto X_t(\\omega)$\n",
    "\n",
    "$S=\\{1,2,\\dots,n\\}$\n",
    "\n",
    "We limit ourselves to discrete times, hence:\n",
    "\n",
    "$X: (\\Omega,\\mathcal{A},P) \\times \\mathbb{N} \\to S, (\\omega,t) \\mapsto X_t(\\omega)$"
   ]
  },
  {
   "cell_type": "markdown",
   "metadata": {},
   "source": [
    "***Markov Chain***\n",
    "\n",
    "Process w/o Memory\n",
    "\n",
    "$t_1 < t_2 < \\dots < t_n < t_{n+1}$, and states $i_1, \\dots, i_n, i_{n+1} \\in S$\n",
    "\n",
    "$P[X_{t_{n+1}} = i_{n+1} | X_{t_{1}} = i_{1} , \\dots X_{t_{n}} = i_{n}] = P[X_{t_{n+1}} = i_{n+1} | X_{t_{n}} = i_{n}] $"
   ]
  },
  {
   "cell_type": "markdown",
   "metadata": {},
   "source": [
    "For $X$ a MC it makes sense to define $p_{ij}(s,t)= P[X_t = j | X_s = j]$ for $s<t$\n",
    "\n",
    "eg $S=\\{\\dagger,\\star\\}$ the $p_{\\star\\dagger}(x,x+n) = {}_n q_x$\n",
    "\n",
    "$P(s,t) = (p_{ij}(s,t))_{(i,j)\\in S^2}$\n",
    "\n",
    "For $s\\le t \\le u$ can we relate the respective $p_{ij}$"
   ]
  },
  {
   "cell_type": "markdown",
   "metadata": {},
   "source": [
    "**Chapman-Kolmogorov Themorem**\n",
    "\n",
    "Let $s \\le t \\le u$ and $i,j \\in S$. Then we have \n",
    "\n",
    "\\begin{eqnarray} p_{i,j}(s,u) &=&\\sum_{k\\in S} p_{ik}(s,t) \\times p_{kj}(t,u) \\end{eqnarray}\n",
    "\n",
    "or in matrix form\n",
    "\n",
    "\\begin{eqnarray}\n",
    "P(s,u) & = & P(s,t) \\, P(t,u)\n",
    "\\end{eqnarray}\n"
   ]
  },
  {
   "cell_type": "markdown",
   "metadata": {},
   "source": [
    "**Proof**\n",
    "\n",
    "$ \\Omega = \\cup_{k \\in S} \\{X_t = k\\}$\n",
    "\n",
    "Let $i,j \\in S$ and $ s\\le t \\le u$\n",
    "\n",
    "\n",
    "\\begin{eqnarray}\n",
    "P[A|B] & = & \\frac{P[A \\cap B ]}{P[B]} \\\\\n",
    "P[A \\cap B |C] & = & \\frac{P[A \\cap B \\cap C]}{P[C]} \\\\\n",
    "& = & \\frac{P[A \\cap B \\cap C]}{P[C]} \\times \\frac{P[B \\cap C]}{P[B \\cap C]} \\\\\n",
    "& = & P[A | B \\cap C] \\times P[B | C]\n",
    "\\end{eqnarray}\n",
    "\n",
    "\\begin{eqnarray} \n",
    "p_{ij}(s,u) & =&  P[X_u = j \\, | X_s = i] \\\\\n",
    "&=& P[X_u = j  \\cap \\Omega \\, | X_s = i]  \\\\\n",
    "&=& P[X_u = j  \\cap \\cup_{k \\in S} \\{X_t = k\\} \\, | X_s = i] \\\\\n",
    "& =& \\sum_{k \\in S}P[X_u = j  \\cap \\{X_t = k\\} \\, | X_s = i] \\\\\n",
    "& =& \\sum_{k \\in S}P[X_u = j | \\{X_t = k\\} \\cap X_s = i] \\times P[X_t = k | X_s = i] \\\\\n",
    "& =& \\sum_{k \\in S}P[X_u = j | X_t = k, X_s = i] \\times p_{ik}(s,t) \\\\\n",
    "& =& \\sum_{k \\in S} p_{kj}(t,u) \\times p_{ik}(s,t) \\\\\n",
    "\\end{eqnarray}\n",
    "\n",
    "where we used the Markov Property in the last step. If you do it more precisely you exclude the state transitions where $P[B \\cap C] = 0$\n"
   ]
  },
  {
   "cell_type": "markdown",
   "metadata": {},
   "source": [
    "**Example**\n",
    "\n",
    "$S=\\{\\star,\\dagger\\}$ \n",
    "\n",
    "\\begin{eqnarray}\n",
    "P(x,x+1) & = & \\left(\n",
    "\\begin{array}{cc} \n",
    "p_x & q_x \\\\\n",
    "0 & 1\n",
    "\\end{array}\n",
    "\\right)\n",
    "\\end{eqnarray}\n",
    "\n",
    "Task: Calculate $P(x,x+n) = P(x,x+1) \\, P(x+1,x+2) \\dots P(x+n-1,x+n)$"
   ]
  },
  {
   "cell_type": "code",
   "execution_count": null,
   "metadata": {},
   "outputs": [],
   "source": []
  }
 ],
 "metadata": {
  "kernelspec": {
   "display_name": "Python 3 (ipykernel)",
   "language": "python",
   "name": "python3"
  },
  "language_info": {
   "codemirror_mode": {
    "name": "ipython",
    "version": 3
   },
   "file_extension": ".py",
   "mimetype": "text/x-python",
   "name": "python",
   "nbconvert_exporter": "python",
   "pygments_lexer": "ipython3",
   "version": "3.9.7"
  }
 },
 "nbformat": 4,
 "nbformat_minor": 4
}
