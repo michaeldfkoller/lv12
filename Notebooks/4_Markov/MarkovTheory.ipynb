{
 "cells": [
  {
   "cell_type": "markdown",
   "metadata": {},
   "source": [
    "$(X_t)_{t \\in \\mathbb{N}}: (\\Omega, \\mathcal{A}, P) \\to \\{1,2,\\dots n\\}$ is called **Markov Chain** \n",
    "\n",
    "iff\n",
    "\n",
    "\\begin{eqnarray*}\n",
    "P[X_{t_{m+1}} = i_{m+1} | X_{t_1} = i_{1}, \\dots X_{t_m} = i_{m}] & = & P[X_{t_{m+1}} = i_{m+1} | X_{t_m} = i_{m}]\n",
    "\\end{eqnarray*}\n",
    "\n",
    "for \n",
    "\\begin{eqnarray*}\n",
    "t_1 < t_2 < \\dots < t_m < t_{m+1}\n",
    "\\end{eqnarray*}\n",
    "\n",
    "and \n",
    "\n",
    "\\begin{eqnarray*}\n",
    "i_1, i_2, \\dots, i_m, i_{m+1} \\in \\{1,2, \\dots n\\}\n",
    "\\end{eqnarray*}\n",
    "\n",
    "\n",
    "We **define**\n",
    "\\begin{eqnarray*}\n",
    "p_{ij}(s,t) &:=& P[X_{t} = j | X_{s} = i]\n",
    "\\end{eqnarray*}\n",
    "\n",
    "\n",
    "**Question: How does $p_{ij}(s,t)$, $p_{jk}(t,u)$ and $p_{ik}(s,u)$ relate?**\n",
    "\n",
    "$\\mathcal{S} := \\{1,2,\\dots,n\\}$\n",
    "\n",
    "**Thm: Chapman-Kolmogorov** For $s < t < u$ and $i,k \\in \\mathcal{S}$ we have the following\n",
    "\n",
    "\\begin{eqnarray*}\n",
    "p_{ik}(s,u) & = & \\sum_{j \\in \\mathcal{S}} p_{ij}(s,t) \\, p_{jk}(t,u) \\\\\n",
    "P(s,u) & = & P(s,t) P(t,u)\n",
    "\\end{eqnarray*}\n",
    "\n",
    "**Proof**\n",
    "\n",
    "\\begin{eqnarray*}\n",
    "p_{ik}(s,u) & = & P[ X_u=k | X_s = i]\\\\\n",
    "            & = & P[ X_u=k \\cap \\Omega| X_s = i] \\\\\n",
    "            & = & P[ X_u=k \\cap \\cup_{j \\in \\mathcal{S}} \\{ X_t = j \\}| X_s = i] \\\\\n",
    "            & = & \\sum_{j \\in \\mathcal{S}} P[ X_u=k , X_t = j| X_s = i] \\\\\n",
    "\\end{eqnarray*}\n",
    "\n",
    "Now lets look at $𝑃[𝑋_𝑢=𝑘,𝑋_𝑡=𝑗|𝑋_𝑠=𝑖]$\n",
    "\n",
    "\\begin{eqnarray*}\n",
    " P[ X_u=k , X_t = j| X_s = i] & = & \\frac{P[X_u=k, X_t = j, X_s = i]}{P[X_s = i]}\\\\\n",
    " & = & \\frac{P[X_u=k, X_t = j, X_s = i]}{P[X_s = i]} \\times \\frac{P[X_t = j, X_s = i]}{P[X_t = j, X_s = i]}\\\\\n",
    " & = & P[X_t = j | X_s = i] \\times P[X_u=k | X_t=j, X_s=i] \\\\\n",
    " & = & P[X_t = j | X_s = i] \\times P[X_u=k | X_t=j] \\\\\n",
    " & = & p_{ij}(s,t) \\, p_{jk}(t,u)\n",
    "\\end{eqnarray*}\n",
    "\n",
    "\n",
    "\\begin{eqnarray*}\n",
    "p_{ik}(s,u) & = & P[ X_u=k | X_s = i]\\\\\n",
    "            & = & P[ X_u=k \\cap \\Omega| X_s = i] \\\\\n",
    "            & = & P[ X_u=k \\cap \\cup_{j \\in \\mathcal{S}} \\{ X_t = j \\}| X_s = i] \\\\\n",
    "            & = & \\sum_{j \\in \\mathcal{S}} P[ X_u=k , X_t = j| X_s = i] \\\\\n",
    "            & = & p_{ij}(s,t) \\, p_{jk}(t,u)\n",
    "\\end{eqnarray*}"
   ]
  },
  {
   "cell_type": "markdown",
   "metadata": {},
   "source": [
    "We have been given $a_{i}^{pre}(t)$ and $a_{ij}^{post}(t)$, and a Markov Chain $X_t$.\n",
    "We assume a constant discount factor $v=\\frac{1}{1+i}$."
   ]
  },
  {
   "cell_type": "markdown",
   "metadata": {},
   "source": [
    "**What is the Cash flow induced**\n",
    "\n",
    "We define $I_i(t) = \\chi_{X_t = i}$. Which mean that you would get the following annuity at time $t$: $\\sum_{i \\in S} a_{i}^{pre}(t) \\times I_i(t)$. Which transition (death) benefit would you get at time $t$? You get $a_{ij}^{post}(t)$ if you are in state $i$ at time $t$ and in state $j$ at $t+1$? ie $ a_{ij}^{post}(t) \\times I_i(t) \\times I_j(t+1)$. In sum for the death benefit $\\sum_{i,j \\in S^2} a_{ij}^{post}(t) \\times I_i(t) \\times I_j(t+1)$.\n",
    "\n",
    "So the cash flow at times $t$ can be calculated as\n",
    "\n",
    "\\begin{eqnarray}\n",
    "A(t) &=& \\sum_{i \\in S} a_{i}^{pre}(t) \\times I_i(t) + \\sum_{i,j \\in S^2} a_{ij}^{post}(t) \\times I_i(t) \\times I_j(t+1) \\\\\n",
    "\\tilde{A}(t) &=& \\sum_{i \\in S} a_{i}^{pre}(t) \\times I_i(t) + \\sum_{i,j \\in S^2} a_{ij}^{post}(t) \\times I_i(t) \\times I_j(t+1) \\times v\n",
    "\\end{eqnarray}"
   ]
  },
  {
   "cell_type": "markdown",
   "metadata": {},
   "source": [
    "**What is the value of this insurance cash flow?**\n",
    "\n",
    "We define the **Mathematical Reserve** as\n",
    "\n",
    "\\begin{eqnarray}\n",
    "V_j(t) &=& \\mathbb{E}[ PV\\, of\\, future\\, CF \\, | \\, X_t=j] \\\\\n",
    "       &=& \\mathbb{E}[\\sum_{\\tau=0}^\\infty v^{\\tau} \\tilde{A}(t+\\tau) | \\, X_t=j] \\\\\n",
    "\\end{eqnarray}"
   ]
  },
  {
   "cell_type": "markdown",
   "metadata": {},
   "source": [
    "In order to calculate the mathematical reserve you can substitute $\\tilde{A}$ in the formula below and ultimately what you need to calculate (keeping in mind the linearity of the $\\mathbb{E}$ functional as the following quantities:\n",
    "\n",
    "\\begin{eqnarray}\n",
    "\\mathbb{E}[I_i(t + \\tau) | X_t = j] & = & p_{ji}(t, t + \\tau)\\\\\n",
    "\\mathbb{E}[I_i(t + \\tau) \\times I_k(t + \\tau+1)| X_t = j] & = & ?\n",
    "\\end{eqnarray}\n",
    "\n",
    "How do we do this? \n"
   ]
  },
  {
   "cell_type": "markdown",
   "metadata": {},
   "source": [
    "\\begin{eqnarray}\n",
    "\\mathbb{E}[I_i(t + \\tau) \\times I_k(t + \\tau+1)| X_t = j] & = & P[ X_{t+\\tau + 1}= k,  X_{t+\\tau}= i | X_t = j]\n",
    "\\end{eqnarray}"
   ]
  },
  {
   "cell_type": "markdown",
   "metadata": {},
   "source": [
    "Now we do the same as in the proof of the Chapman-Kolmogorov-Equation]\n",
    "\n",
    "\\begin{eqnarray}\n",
    "\\mathbb{E}[I_i(t + \\tau) \\times I_k(t + \\tau+1)| X_t = j] & = & P[ X_{t+\\tau + 1}= k,  X_{t+\\tau}= i | X_t = j] \\\\\n",
    " & = & \\frac{P[X_{t+\\tau + 1}= k,  X_{t+\\tau}= i, X_t = j]}{P[X_t = j]} \\\\\n",
    " & = & \\frac{P[X_{t+\\tau + 1}= k,  X_{t+\\tau}= i, X_t = j]}{P[X_t = j]} \\times \\frac{P[X_{t}= j,  X_{t+tau}= i]}{P[X_{t}= j,  X_{t+tau}= i]} \\\\\n",
    " & = & P[ X_{t+\\tau}= i| X_t = j] \\times P[ X_{t+\\tau+1}= k| X_t = j, X_{t+\\tau}= i] \\\\\n",
    " & = & p_{ji}(t, t+\\tau) \\times p_{ik}(t+\\tau,t+\\tau+1)\n",
    "\\end{eqnarray}\n"
   ]
  },
  {
   "cell_type": "markdown",
   "metadata": {},
   "source": [
    "If we put now all things together we can can calcuate the mathematical reserves as follows\n",
    "\n",
    "\\begin{eqnarray}\n",
    "V_j(t) &=& \\mathbb{E}[\\sum_{\\tau=0}^\\infty v^{\\tau} \\tilde{A}(t+\\tau) | \\, X_t=j] \\\\\n",
    "  & = & \\sum_{\\tau=0}^\\infty v^{\\tau} \\left( \\sum_{i \\in S} a_{i}^{pre}(t+\\tau) \\times p_{ji}(t,t+\\tau) + \\sum_{i,j \\in S^2} a_{ij}^{post}(t+\\tau) p_{ji}(t,t+\\tau) \\times p_{ik}(t+\\tau,t+\\tau+1)\\times v \\right)\n",
    "\\end{eqnarray}\n"
   ]
  },
  {
   "cell_type": "markdown",
   "metadata": {},
   "source": [
    "**Remark:** With this formula we can also calculate the expected cash flows at time $t$ as follows:\n",
    "\n",
    "\\begin{eqnarray}\n",
    "\\mathbb{E}[A(t+\\tau) \\,|\\, X_t = j] & = &  \\sum_{i \\in S} a_{i}^{pre}(t+\\tau) \\times p_{ji}(t,t+\\tau) + \\sum_{i,j \\in S^2} a_{ij}^{post}(t+\\tau) p_{ji}(t,t+\\tau) \\times p_{ik}(t+\\tau,t+\\tau+1)\n",
    "\\end{eqnarray}"
   ]
  },
  {
   "cell_type": "markdown",
   "metadata": {},
   "source": [
    "**Thiele Difference Equation** this is the relationship between the mathematical reserves between times $t$ and $t+1$. The relationship is as follows:\n",
    "\n",
    "\\begin{eqnarray}\n",
    "V_j(t) & = & a_j^{pre}(t) + v \\sum_{k \\in S} p_{jk}(t,t+1) \\times \\left( a_{jk}^{post}(t) + V_{k}(t+1) \\right)\n",
    "\\end{eqnarray}\n"
   ]
  },
  {
   "cell_type": "markdown",
   "metadata": {},
   "source": [
    "To prove this equation we split the time-sum into $\\tau = 0$ and the rest. For $\\tau = 0$ we get\n",
    "\n",
    "\\begin{eqnarray}\n",
    "a_j^{pre}(t) + v \\sum_{k \\in S} p_{jk}(t,t+1) \\times  a_{jk}^{post}(t) \n",
    "\\end{eqnarray}\n",
    "\n",
    "as per above. \n",
    "\n",
    "In a second step we need to consider (**NEW AND IMPROVED FORMULA**:)\n",
    "\n",
    "\\begin{eqnarray}\n",
    "\\sum_{\\tau=1}^\\infty v^{\\tau} \\left( \\sum_{i \\in S} a_{i}^{pre}(t+\\tau) \\times p_{ji}(t,t+\\tau) + \\sum_{(i,k) \\in S^2} a_{ik}^{post}(t+\\tau) p_{ji}(t,t+\\tau) \\times p_{ik}(t+\\tau,t+\\tau+1)\\times v \\right) \\\\\n",
    "=\\sum_{\\tau=1}^\\infty v^{\\tau}  \\sum_{i \\in S} p_{ji}(t,t+\\tau) \\times \\left(a_{i}^{pre}(t+\\tau) + \\sum_{k \\in S} a_{ik}^{post}(t+\\tau) p_{ik}(t+\\tau,t+\\tau+1)\\times v \\right)\n",
    "\\end{eqnarray}\n"
   ]
  },
  {
   "cell_type": "markdown",
   "metadata": {},
   "source": [
    "We can now calculate the quantity $p_{ji}(t,t+\\tau)$ as follows, by means of the Chapman-Kolmorgorov equation\n",
    "\n",
    "\\begin{eqnarray}\n",
    "p_{ji}(t,t+\\tau) & = & \\sum_{l \\in S} p_{jl}(t,t+1) \\times p_{li}(t+1,t+\\tau)\n",
    "\\end{eqnarray}"
   ]
  },
  {
   "cell_type": "markdown",
   "metadata": {},
   "source": [
    "\\begin{eqnarray}\n",
    "\\sum_{\\tau=1}^\\infty v^{\\tau} \\left( \\sum_{i \\in S} a_{i}^{pre}(t+\\tau) \\times p_{ji}(t,t+\\tau) + \\sum_{i,j \\in S^2} a_{ij}^{post}(t+\\tau) p_{ji}(t,t+\\tau) \\times p_{ik}(t+\\tau,t+\\tau+1)\\times v \\right) \\\\\n",
    "=\\sum_{\\tau=1}^\\infty v^{\\tau} p_{ji}(t,t+\\tau)\\times \\left( \\sum_{i \\in S} a_{i}^{pre}(t+\\tau) + \\sum_{i,j \\in S^2} a_{ij}^{post}(t+\\tau) p_{ik}(t+\\tau,t+\\tau+1)\\times v \\right) \\\\\n",
    "=\\sum_{\\tau=1}^\\infty v^{\\tau} \\left(\\sum_{l \\in S} p_{jl}(t,t+1) \\times p_{li}(t+1,t+\\tau)\\right)\\times \\left( \\sum_{i \\in S} a_{i}^{pre}(t+\\tau) + \\sum_{i,j \\in S^2} a_{ij}^{post}(t+\\tau) p_{ik}(t+\\tau,t+\\tau+1)\\times v \\right) \\\\\n",
    "= \\sum_{l \\in S} p_{jl}(t,t+1) \\times v \\times \\left( \\sum_{\\tau=0}^\\infty v^{\\tau}  p_{li}(t+1,t+1+\\tau)\\times \\left( \\sum_{i \\in S} a_{i}^{pre}(t+1+\\tau) + \\sum_{i,j \\in S^2} a_{ij}^{post}(t+1+\\tau) p_{ik}(t+1+\\tau,t+1+\\tau+1)\\times v \\right)\\right) \\\\\n",
    "= \\sum_{l \\in S} p_{jl}(t,t+1) \\times v \\times V_l(t+1)\n",
    "\\end{eqnarray}"
   ]
  },
  {
   "cell_type": "markdown",
   "metadata": {},
   "source": [
    "**Remarks**:\n",
    "\n",
    "1) For one life we have a recursion of reals $A_x = q_x \\times v + p_x \\times v \\times A_{x+1}$. In case of MR of a Markov model we have a recursion of vectors.\n",
    "\n",
    "2) To solve it one needs boundary conditions as per before with $V_j(\\omega) =0 \\, \\forall j\\in S$\n",
    "\n",
    "3) Thiele Difference Equations leads to the same results as for the classical life insurance we have seen."
   ]
  },
  {
   "cell_type": "markdown",
   "metadata": {},
   "source": [
    "**Numerical Efficiency**\n",
    "\n",
    "\\begin{eqnarray}\n",
    "V_j(t) &=& \\mathbb{E}[\\sum_{\\tau=0}^\\infty v^{\\tau} \\tilde{A}(t+\\tau) | \\, X_t=j] \\\\\n",
    "  & = & \\sum_{\\tau=0}^\\infty v^{\\tau} \\left( \\sum_{i \\in S} a_{i}^{pre}(t+\\tau) \\times p_{ji}(t,t+\\tau) + \\sum_{i,j \\in S^2} a_{ij}^{post}(t+\\tau) p_{ji}(t,t+\\tau) \\times p_{ik}(t+\\tau,t+\\tau+1)\\times v \\right)\n",
    "\\end{eqnarray}"
   ]
  },
  {
   "cell_type": "markdown",
   "metadata": {},
   "source": [
    "Assume $x=20, \\omega=120$ and we have $n$ states\n",
    "\n",
    "To calculate $P(x, x+\\tau)$ we need $\\tau \\times n^2$ multiplications. In total $4 \\times \\tau \\times n^2$ with $\\tau = \\omega - x = 100$"
   ]
  },
  {
   "cell_type": "markdown",
   "metadata": {},
   "source": [
    "\\begin{eqnarray}\n",
    "V_j(t) & = & a_j^{pre}(t) + v \\sum_{k \\in S} p_{jk}(t,t+1) \\times \\left( a_{jk}^{post}(t) + V_{k}(k+1) \\right)\n",
    "\\end{eqnarray}\n",
    "\n",
    "Here we use $\\tau \\times n^2$ multiplication"
   ]
  },
  {
   "cell_type": "markdown",
   "metadata": {},
   "source": [
    "**Additional consideration:** The problem comes if $n$ is big. However needs to consideronly nontrivial transitions. This makes quite a difference in diability models where $n=10$ and the relevant transitions could be in the order of $20$ hence a ratio of $20/100 = 0.2$"
   ]
  },
  {
   "cell_type": "code",
   "execution_count": null,
   "metadata": {},
   "outputs": [],
   "source": []
  }
 ],
 "metadata": {
  "kernelspec": {
   "display_name": "Python 3 (ipykernel)",
   "language": "python",
   "name": "python3"
  },
  "language_info": {
   "codemirror_mode": {
    "name": "ipython",
    "version": 3
   },
   "file_extension": ".py",
   "mimetype": "text/x-python",
   "name": "python",
   "nbconvert_exporter": "python",
   "pygments_lexer": "ipython3",
   "version": "3.12.4"
  }
 },
 "nbformat": 4,
 "nbformat_minor": 4
}
