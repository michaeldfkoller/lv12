{
 "cells": [
  {
   "cell_type": "markdown",
   "id": "fffff38e-d96e-4d35-a828-1de7278dd15e",
   "metadata": {},
   "source": [
    "**Life Insurance on Multiple Lifes**\n",
    "\n",
    "Given n People with ages at the beginning of $x_1, x_2, \\dots x_n$"
   ]
  },
  {
   "cell_type": "markdown",
   "id": "b9a726ee-5ff8-477a-8121-0fbbb13d9341",
   "metadata": {},
   "source": [
    "We denote by $T_i$ (and $K_i$) the future life span of person $i$ (aka $T_{x_i}$)\n",
    "\n",
    "In the classical context **we assume that** $\\{T_i(\\omega) : i = 1, \\dots n \\}$ are **independent**.\n",
    "\n",
    "Independent means \n",
    "\n",
    "\\begin{eqnarray*}\n",
    "\\mathbb{P}( (X_1, \\dots X_n) \\in \\prod_{i=1}^n A_i) = \\prod_{i=1}^n \\mathbb{P}(X_i \\in A_i)\n",
    "\\end{eqnarray*}"
   ]
  },
  {
   "cell_type": "markdown",
   "id": "9ca163fd-c65c-468a-92a8-02e0155d6086",
   "metadata": {},
   "source": [
    "**Model**\n",
    "\n",
    "Consider to classical states \n",
    "\n",
    "- $u_j=x_1:x_2: \\dots x_n$ joint state\n",
    "- $u_l=\\bar{x_1:x_2: \\dots x_n}$ last survivor state (a bar over all indicies)"
   ]
  },
  {
   "cell_type": "markdown",
   "id": "2bc3d524-ba4d-4244-9fa7-6e72efb46f33",
   "metadata": {},
   "source": [
    "\n",
    "\\begin{eqnarray*}\n",
    "T_{u_j}(\\omega) & = & \\min\\{T_i : i =1 \\dots n \\} \\\\\n",
    "T_{u_l}(\\omega) & = & \\max\\{T_i : i =1 \\dots n \\}\n",
    "\\end{eqnarray*}\n",
    "\n",
    "We want to calculate the cumulative distribution function"
   ]
  },
  {
   "cell_type": "markdown",
   "id": "0f63c1d8-eb88-43bc-bdf8-ad8be259fab0",
   "metadata": {},
   "source": [
    "\\begin{eqnarray*}\n",
    "{}_k p_{u_j} & = & \\\\\n",
    "\\mathbb{P}(T_{u_j} \\ge k) & = & \\mathbb{P}( \\min\\{T_i : i =1 \\dots n \\} \\ge k) \\\\\n",
    "& = & \\mathbb{P}(T_i  \\ge k \\forall i) \\\\\n",
    "& = & \\prod_{i=1}^n \\mathbb{P}(T_i  \\ge k) \\\\\n",
    "& = & \\prod_{i=1}^n {}_k p_{x_i}\n",
    "\\end{eqnarray*}"
   ]
  },
  {
   "cell_type": "markdown",
   "id": "32cbd90c-db7d-436a-843e-0b316ee6854e",
   "metadata": {},
   "source": [
    "**Probability of Union**\n",
    "\n",
    "$\\mathbb{P}(A \\cup B) = \\mathbb{P}(A) + \\mathbb{P}(B) - \\mathbb{P}(A \\cap B) $\n",
    "\n",
    "$\\mathbb{P}(A \\cup B \\cup C) = \\mathbb{P}(A) + \\mathbb{P}(B) + \\mathbb{P}(C) - \\mathbb{P}(A \\cap B) - \\mathbb{P}(A \\cap C) - \\mathbb{P}(B \\cap C)  + \\mathbb{P}(A \\cap B \\cap C)$"
   ]
  },
  {
   "cell_type": "markdown",
   "id": "87cebaf4-bb4e-4bbc-93fd-50e2e30c5905",
   "metadata": {},
   "source": [
    "**What do we want to do now in the classical setup?**\n",
    "\n",
    "- Classical definition of decrements an commutation functions\n",
    "- Joint life annuities\n",
    "- Dependent life annuities (widows pensions)\n",
    "- Orphan pension\n",
    "- Simplifications for homogeneous protfolios"
   ]
  },
  {
   "cell_type": "markdown",
   "id": "a7762f1d-9771-4630-a6c5-ac9c242a1e74",
   "metadata": {},
   "source": [
    "**Classical definition of decrements an commutation functions**\n",
    "\n",
    "Setup\n",
    "- 2 people (call them $x$ and $y$)\n",
    "- Assume independent decrement\n",
    "\n",
    "\\begin{eqnarray*}\n",
    "l_{0,y_0} & = & 100'000 \\\\\n",
    "or  \\\\\n",
    "l_{x_0,0} & = & 100'000\n",
    "\\end{eqnarray*}\n",
    "\n",
    "plus the recursion\n",
    "\\begin{eqnarray*}\n",
    "l_{x+1,y+1} & = & l_{x,y} \\times p_x \\times p_y \\\\\n",
    "d_{x,y} & = & l_{x,y} - l_{x+1,y+1}\n",
    "\\end{eqnarray*}\n",
    "\n",
    "Note for one life\n",
    "\n",
    "\\begin{eqnarray*}\n",
    "l_{x+1} & = & l_{x} \\times p_x  \\\\\n",
    "d_{x} & = & l_{x} - l_{x+1} \\\\\n",
    "      & = & l_{x} \\times q_x \\\\\n",
    "\\end{eqnarray*}\n",
    "\n",
    "And the commutation functions in the past we had:\n",
    "\n",
    "\\begin{eqnarray}\n",
    "D_x &=& l_x \\times v^{x} \\\\\n",
    "C_x &=& d_x \\times v^{x+1} \\\\\n",
    "N_x &=& \\sum_{k=0}^\\infty D_{x+k} \\\\\n",
    "M_x &=& \\sum_{k=0}^\\infty C_{x+k} \\\\\n",
    "S_x &=& \\sum_{k=0}^\\infty N_{x+k} \\\\\n",
    "R_x &=& \\sum_{k=0}^\\infty M_{x+k} \\\\\n",
    "\\end{eqnarray}\n",
    "\n",
    "Now\n",
    "\n",
    "\\begin{eqnarray}\n",
    "D_{xy} &=& l_{xy} \\times v^{x} \\\\\n",
    "C_{xy} &=& d_{xy} \\times v^{x+1} \\\\\n",
    "N_{xy} &=& \\sum_{k=0}^\\infty D_{x+k, y+k} \\\\\n",
    "M_{xy} &=& \\sum_{k=0}^\\infty C_{x+k, y+k} \\\\\n",
    "S_{xy} &=& \\sum_{k=0}^\\infty N_{x+k, y+k} \\\\\n",
    "R_{xy} &=& \\sum_{k=0}^\\infty M_{x+k, y+k} \\\\\n",
    "\\end{eqnarray}\n"
   ]
  },
  {
   "cell_type": "markdown",
   "id": "c5e73d9e-321a-4095-a19a-cd8980912748",
   "metadata": {},
   "source": [
    "**Joint life annuities (paid as long as both are alive)** \n",
    "\n",
    "This is $\\ddot{a}_{xy}$\n",
    "\n",
    "\\begin{eqnarray}\n",
    "Y & = & \\sum_{k=0}^\\infty \\mathbb{1}_{T_{x:y} \\ge k} \\times v^k \\\\\n",
    "\\ddot{a}_{xy} &=& \\mathbb{E}(Y) \\\\\n",
    "  & = & \\sum_{k=0}^\\infty  \\mathbb{E}(\\mathbb{1}_{T_{x:y} \\ge k}) \\times v^k \\\\\n",
    "   & = & \\sum_{k=0}^\\infty  \\mathbb{P}(T_{x:y} \\ge k) \\times v^k \\\\\n",
    "  & = & \\sum_{k=0}^\\infty  {}_kp_{xy} \\times v^k \\\\\n",
    "  & = & \\sum_{k=0}^\\infty  \\frac{l_{x+k,y+k}}{l_{xy}} \\times \\frac{v^{x+k}}{v^x} \\\\\n",
    "  & = & \\sum_{k=0}^\\infty  \\frac{D_{x+k,y+k}}{D_{xy}}\n",
    "  & = & \\frac{N_{xy}}{D_{xy}}\n",
    "\\end{eqnarray}  \n",
    "\n",
    "**Last Survivor (annuity paid until second death)**\n",
    "\n",
    "This is $\\ddot{a}_{\\bar{xy}}$\n",
    "\\begin{eqnarray}\n",
    "Y & = & \\sum_{k=0}^\\infty \\mathbb{1}_{T_{\\bar{xy}} \\ge k} \\times v^k \\\\\n",
    "\\ddot{a}_{\\bar{xy}} &=& \\mathbb{E}(Y) \\\\\n",
    "  & = & \\sum_{k=0}^\\infty  \\mathbb{E}(\\mathbb{1}_{T_{\\bar{xy}} \\ge k}) \\times v^k \\\\\n",
    "  & = & \\sum_{k=0}^\\infty  \\{{}_kp_x + {}_kp_y - {}_kp_{xy}\\} \\times v^k \\\\\n",
    "  & = & \\ddot{a}_x + \\ddot{a}_y - \\ddot{a}_{xy} \\\\\n",
    "  & = & \\frac{N_{x}}{D_{x}} + \\frac{N_{y}}{D_{y}} - \\frac{N_{xy}}{D_{xy}}\n",
    "\\end{eqnarray}  \n"
   ]
  },
  {
   "cell_type": "markdown",
   "id": "1313ab31-f19c-4a85-ad34-e0ec26888dbf",
   "metadata": {},
   "source": [
    "**Dependent life annuities (widows pensions)**\n",
    "\n",
    "For further details see book or script. Example we consider a widows pensions $\\ddot{a}_{x|y}$\n",
    "\n",
    "\\begin{eqnarray}\n",
    "Y & = & \\sum_{k=0}^\\infty \\{ \\mathbb{1}_{T_{y} \\ge k} - \\mathbb{1}_{T_{x:y} \\ge k} \\} \\times v^k \\\\\n",
    "\\end{eqnarray}  \n",
    "\n",
    "To calculate the expected value we have the following\n",
    "\n",
    "\\begin{eqnarray}\n",
    "\\ddot{a}_{x|y} &=& \\mathbb{E}(Y) \\\\\n",
    "  & = & \\sum_{k=0}^\\infty  \\mathbb{E}(\\mathbb{1}_{T_{y} \\ge k} - \\mathbb{1}_{T_{x:y} \\ge k}) \\times v^k \\\\\n",
    "  & = & \\sum_{k=0}^\\infty  \\{{}_kp_y -{}_kp_{xy}\\} \\times v^k \\\\\n",
    "  & = & \\ddot{a}_y - \\ddot{a}_{xy} \\\\\n",
    "  & = & \\frac{N_{y}}{D_{y}} - \\frac{N_{xy}}{D_{xy}}\n",
    "\\end{eqnarray}\n",
    "\n",
    "\n",
    "Example we consider a symmeytric widows pensions $\\ddot{a}_{x:y}^1 = \\ddot{a}_{x|y} + \\ddot{a}_{y|x} $\n",
    "\n",
    "\\begin{eqnarray}\n",
    "Y & = & \\sum_{k=0}^\\infty \\{ \\mathbb{1}_{T_{\\bar{xy}} \\ge k} - \\mathbb{1}_{T_{x:y} \\ge k} \\} \\times v^k \\\\\n",
    "\\end{eqnarray}  \n",
    "\n",
    "To calculate the expected value we have the following\n",
    "\n",
    "\\begin{eqnarray}\n",
    "\\ddot{a}_{x:y}^1 &=& \\mathbb{E}(Y) \\\\\n",
    "  & = & \\sum_{k=0}^\\infty  \\mathbb{E}(\\mathbb{1}_{T_{\\bar{xy}} \\ge k} - \\mathbb{1}_{T_{x:y} \\ge k}) \\times v^k \\\\\n",
    "  && + \\sum_{k=0}^\\infty  \\mathbb{E}(\\mathbb{1}_{T_{\\bar{xy}} \\ge k} - \\mathbb{1}_{T_{x:y} \\ge k}) \\times v^k \\\\\n",
    "& = & \\frac{N_{y}}{D_{y}} + \\frac{N_{x}}{D_{x}} - 2\\,\\frac{N_{xy}}{D_{xy}}\n",
    "\\end{eqnarray}"
   ]
  },
  {
   "cell_type": "markdown",
   "id": "c56d8cb5-f063-4f27-9c49-06368a980a4f",
   "metadata": {},
   "source": [
    "**Orphan pension**\n",
    "\n",
    "- structurally the orphans pension $\\ddot{a}_{x|z}$ are similar to widows pension\n",
    "- however they are normally paid until the child has reached adulthood ($g=25$)\n",
    "\n",
    "\\begin{eqnarray}\n",
    "\\ddot{a}_{x|z:g-z} &=& \\mathbb{E}(Y) \\\\\n",
    "  & = & \\sum_{k=0}^{g-z-1}  \\mathbb{E}(\\mathbb{1}_{T_{z} \\ge k} - \\mathbb{1}_{T_{xz} \\ge k}) \\times v^k \\\\\n",
    "  & = & \\sum_{k=0}^{g-z-1}  \\{{}_kp_z -{}_kp_{xz}\\} \\times v^k \\\\\n",
    "  & = & \\frac{N_{z}-N_{g}}{D_{z}} - \\frac{N_{xz}-N_{xg}}{D_{xz}}\n",
    "\\end{eqnarray}\n",
    "\n",
    "Typically one assumes that $q_z = 0$ ie the child does not die and the formulae become simpler\n",
    "\n",
    "\\begin{eqnarray}\n",
    "\\ddot{a}_{x|z:g-z} &=& \\ddot{a}_{g-z} - \\ddot{a}_{x:g-z}\n",
    "\\end{eqnarray}\n",
    "\n",
    "\n",
    "You can also have orphan pensions which depend on both parents. For exmaple an additional orphans pension if both parents die (after the last survivor status is canceled)\n",
    "\n",
    "\\begin{eqnarray}\n",
    "\\ddot{a}_{\\bar{xy}|z:g-z} &=& \\ddot{a}_{g-z} - \\ddot{a}_{\\bar{xy}:g-z}\n",
    "\\end{eqnarray}\n"
   ]
  },
  {
   "cell_type": "markdown",
   "id": "32fe53ff-6fb5-4b72-9632-1043c030e1dd",
   "metadata": {},
   "source": [
    "**Simplifications for homogeneous protfolios**\n",
    "\n",
    "- Widows pensions are complex to administer since for each insured person you need to know\n",
    "- Is the person married\n",
    "- What is the age of the partner\n",
    "- This can change over time\n",
    "\n",
    "Siplification assume avages"
   ]
  },
  {
   "cell_type": "markdown",
   "id": "c8aa37c3-572b-497b-8098-f75f6deaac93",
   "metadata": {},
   "source": [
    "**Widows pension collective method**\n",
    "\n",
    "*We do not want to record fact whether married and age of spouse*\n",
    "\n",
    "Need to replace *fact being being married by resp probability $h_x$* and *$y$ by average age of spouse $y_x$*"
   ]
  },
  {
   "cell_type": "markdown",
   "id": "ead5d857-abd6-4998-a8ec-cec76044b7a8",
   "metadata": {},
   "source": [
    "**How to calculate widows pension with collective method?**"
   ]
  },
  {
   "cell_type": "markdown",
   "id": "0fee24fd-6615-4866-8ab7-ea19cc5edca1",
   "metadata": {},
   "source": [
    "Man alive --> (no) Man married? --> (yes) pay $\\ddot{a}_{y(x)}$\n",
    "\n",
    "Move $k$ years out from $x$: ${}_kp_x \\times q_{x+k} \\times h_{x+k} \\times \\ddot{a}_{y_{x+k}}$"
   ]
  },
  {
   "cell_type": "markdown",
   "id": "6d11963a-6c77-454b-923f-ae760eafcd7f",
   "metadata": {},
   "source": [
    "$\\ddot{a}_x^w = \\sum_{k=0}^\\infty {}_kp_x \\times q_{x+k} \\times h_{x+k} \\times \\ddot{a}_{y_{x+k+\\frac{1}{2}}} v^{k+\\frac{1}{2}}$"
   ]
  },
  {
   "cell_type": "markdown",
   "id": "45a5e590-c527-4e51-a36f-cbcf32256071",
   "metadata": {},
   "source": [
    "**Why does the following definition work**\n",
    "\n",
    "$D_{xy} = l_{xy} v^{\\frac{x+y}{2}}$\n",
    "\n",
    "we show this for $\\ddot{a}_{xy}$"
   ]
  },
  {
   "cell_type": "markdown",
   "id": "7b305a52-6ccd-45a7-a794-f5b31501a3c1",
   "metadata": {},
   "source": [
    "\\begin{eqnarray}\n",
    "Y & = & \\sum_{k=0}^\\infty \\mathbb{1}_{T_{x:y} \\ge k} \\times v^k \\\\\n",
    "\\ddot{a}_{xy} &=& \\mathbb{E}(Y) \\\\\n",
    "  & = & \\sum_{k=0}^\\infty  \\mathbb{E}(\\mathbb{1}_{T_{x:y} \\ge k}) \\times v^k \\\\\n",
    "  & = & \\sum_{k=0}^\\infty  {}_kp_{xy} \\times v^k \\\\\n",
    "  & = & \\sum_{k=0}^\\infty  \\frac{l_{x+k,y+k}}{l_{xy}} \\times \\frac{v^{\\frac{x+y}{2}+k}}{v^{\\frac{x+y}{2}}} \\\\\n",
    "  & = & \\sum_{k=0}^\\infty  \\frac{l_{x+k,y+k}}{l_{xy}} \\times \\frac{v^{\\frac{(x+k)+(y+k)}{2}}}{v^{\\frac{x+y}{2}}} \\\\\n",
    "  & = & \\sum_{k=0}^\\infty  \\frac{D_{x+k,y+k}}{D_{xy}}\n",
    "  & = & \\frac{N_{xy}}{D_{xy}}\n",
    "\\end{eqnarray}  "
   ]
  },
  {
   "cell_type": "code",
   "execution_count": null,
   "id": "586e0254-947a-4003-89b9-0089184520a4",
   "metadata": {},
   "outputs": [],
   "source": []
  }
 ],
 "metadata": {
  "kernelspec": {
   "display_name": "Python 3 (ipykernel)",
   "language": "python",
   "name": "python3"
  },
  "language_info": {
   "codemirror_mode": {
    "name": "ipython",
    "version": 3
   },
   "file_extension": ".py",
   "mimetype": "text/x-python",
   "name": "python",
   "nbconvert_exporter": "python",
   "pygments_lexer": "ipython3",
   "version": "3.12.4"
  }
 },
 "nbformat": 4,
 "nbformat_minor": 5
}
