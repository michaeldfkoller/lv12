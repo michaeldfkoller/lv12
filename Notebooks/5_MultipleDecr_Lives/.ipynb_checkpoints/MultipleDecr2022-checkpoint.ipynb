{
 "cells": [
  {
   "cell_type": "markdown",
   "id": "fb86cc72-c910-405a-bb07-85c39e42c199",
   "metadata": {},
   "source": [
    "**Model For Insurance with multiple Decrements**"
   ]
  },
  {
   "cell_type": "markdown",
   "id": "128859be-e44d-4d9d-ad0b-6e7938941b4b",
   "metadata": {},
   "source": [
    "**1 What Did we do**\n",
    "\n",
    "**2 What is new**\n",
    "\n",
    "- Definition of Stochastic Model\n",
    "- Definition of Benefits\n",
    "- Calculation of expected Present Values\n",
    "- Mathematical reserve - Premium calculation\n",
    "- Recursion\n",
    "- Technical Ananlysis"
   ]
  },
  {
   "cell_type": "markdown",
   "id": "893349dd-c451-4f12-9fb8-36fb54005f71",
   "metadata": {},
   "source": [
    "**Definition of Stochastic Model**\n",
    "\n",
    "**1 What Did we do**\n",
    "\n",
    "\\begin{eqnarray}\n",
    "T_x: (\\Omega, \\mathcal{A},P) \\to \\mathbb{R}_+  \\\\\n",
    "K_x = int(T_x)\n",
    "\\end{eqnarray}\n",
    "\n",
    "You define\n",
    "\n",
    "\\begin{eqnarray}\n",
    "{}_kp_x &=& P[K \\ge x+k | K \\ge x] \\\\\n",
    "{}_kq_x &=& P[K < x+k | K \\ge x] \\\\\n",
    "p_x &=& P[K \\ge x+1 | K \\ge x] \\\\\n",
    "q_x &=& P[K < x+1 | K \\ge x] \\\\\n",
    "{}_{n+m}p_x & = & {}_n p_x \\times {}_m p_{x+n}\\\\\n",
    "{}_n|{}_{m}q_x & = & {}_n p_x \\times {}_m q_{x+n}\n",
    "\\end{eqnarray}\n",
    "\n",
    "**Furture Lifespan of a person aged x**\n",
    "\n",
    "**2 What is new**\n",
    "\n",
    "- People die but there are different causes of death $\\mathcal{C}=\\{1,2,3,\\dots n\\}$\n",
    "\n",
    "\\begin{eqnarray}\n",
    "T_x: (\\Omega, \\mathcal{A},P) \\to \\mathbb{R} \\\\\n",
    "J: (\\Omega, \\mathcal{A},P) \\to \\mathcal{C} \\\\[1ex]\n",
    "K_x = int(T_x)\n",
    "\\end{eqnarray}\n",
    "\n",
    "You define\n",
    "\n",
    "\\begin{eqnarray}\n",
    "{}_kp_x &=& P[K \\ge x+k | K \\ge x] \\\\\n",
    "{}_kq_x &=& P[K < x+k | K \\ge x] \\\\\n",
    "p_x &=& P[K \\ge x+1 | K \\ge x] \\\\\n",
    "q_x &=& P[K < x+1 | K \\ge x] \\\\\n",
    "{}_{n+m}p_x & = & {}_n p_x \\times {}_m p_{x+n}\\\\\n",
    "{}_n|{}_{m}q_x & = & {}_n p_x \\times {}_m q_{x+n} \\\\\n",
    "P[K = x+m | K \\ge x] & = & {}_1|{}_{m}q_x \\\\\n",
    " & = & {}_m p_x \\times q_{x+m}\n",
    "\\end{eqnarray}\n",
    "\n",
    "We are actually interested \n",
    "\n",
    "\\begin{eqnarray}\n",
    "P[K = x+k, J = j | K \\ge x] & = & {}_m p_x \\times q_{x+m}^j \\\\\n",
    "\\sum_{j\\in\\mathcal{C}} P[K = x+k, J = j | K \\ge x] & = &  P[K = x+k, \\cup_{j\\in\\mathcal{C}} \\{J = j\\} | K \\ge x] \\\\\n",
    "& = & P[K = x+k | K \\ge x] \\\\\n",
    "q_x  & = & \\sum_{j\\in\\mathcal{C}} q_x^j\n",
    "\\end{eqnarray}\n",
    "\n"
   ]
  },
  {
   "cell_type": "markdown",
   "id": "0191aa09-9123-4073-9c04-2e09cd2fc7c4",
   "metadata": {},
   "source": [
    "**Definition of Benefits and Calculation of Expected PV**\n",
    "\n",
    "Mainly used for capital lump sums $Z$\n",
    "\n",
    "**1 What Did we do**\n",
    "\n",
    "\\begin{eqnarray}\n",
    "Z & =&  B_{K_x(\\omega)} v^{K(\\omega) +1} \\\\\n",
    "\\mathbb{E}[Z] & = & \\sum_{k=0}^\\infty B_{k} \\, P[K=k] \\, v^{k +1} \\\\\n",
    "& = & \\sum_{k=0}^\\infty B_{k} \\, {}_kp_x \\, q_{x+k} v^{k +1} \\\\\n",
    "& = & \\sum_{k=0}^\\infty B_{k} \\, \\frac{C_{x+k}}{D_x}\n",
    "\\end{eqnarray}\n",
    "\n",
    "**2 What is new**\n",
    "\n",
    "\\begin{eqnarray}\n",
    "Z & =&  B_{K_x(\\omega)}^{J(\\omega)} v^{K(\\omega) +1} \\\\\n",
    "\\mathbb{E}[Z] & = & \\sum_{k=0}^\\infty \\sum_{j \\in \\mathcal{C}} B_{k}^j \\, P[K=k, J=j] \\, v^{k +1} \\\\\n",
    "              & = & \\sum_{k=0}^\\infty  {}_k p_x \\, \\sum_{j \\in \\mathcal{C}} B_{k}^j  q_{x+k}^j \\, v^{k +1} \\\\\n",
    "               & = & \\sum_{k=0}^\\infty  \\sum_{j \\in \\mathcal{C}} B_{k}^j  \\frac{C_{x+k}^j}{D_x}\n",
    "\\end{eqnarray}\n"
   ]
  },
  {
   "cell_type": "markdown",
   "id": "7cd8d4a2-e4cc-46ec-b263-f7bda9029d23",
   "metadata": {},
   "source": [
    "**Commutation Function**\n",
    "\n",
    "\\begin{eqnarray}\n",
    "l_0 & = & 100000 \\\\\n",
    "l_{x+1} & = & (1-q_x) \\, l_x \\\\\n",
    "d_x &= & q_x \\, l_x \\\\\n",
    "D_x & = & l_x \\, v^x \\\\\n",
    "C_x & = & d_x \\, v^{x+1} \\\\\n",
    "C_x^j & = & l_x \\, q_x^j \\, v^{x+1}\n",
    "\\end{eqnarray}"
   ]
  },
  {
   "cell_type": "markdown",
   "id": "d370a602-9773-4642-bf01-e166246b8ea2",
   "metadata": {},
   "source": [
    "**Mathematical reserve - Premium calculation**\n",
    "\n",
    "**1 What Did we do**\n",
    "\n",
    "- Equivalence Principle: PV(benefits) = PV(premium) at inception \n",
    "- MR: PV(future benefits) - PV(future Premium)\n",
    "- equivalence Principle means MR = 0 at inception\n",
    "- Benfit $C_k$ and Premium $\\Pi_k$\n",
    "\n",
    "\\begin{eqnarray}\n",
    "{}_kV_x & = & \\sum_{l=0}^\\infty  B_{k+l} \\, {}_lp_{x+k}\\, q_{x+k+l} v^{l+1} -  \\sum_{l=0}^\\infty\\Pi_{k+l} {}_lp_{x+k} v^l \n",
    "\\end{eqnarray}\n",
    "\n",
    "**2 What is new**\n",
    "\n",
    "- Equivalence Principle: PV(benefits) = PV(premium) at inception\n",
    "- MR: PV(future benefits) - PV(future Premium)\n",
    "- Equivalence Principle means MR = 0 at inception\n",
    "- Benfit $C_k^j$ and Premium $\\Pi_k$\n",
    "\n",
    "\\begin{eqnarray}\n",
    "{}_kV_x & = & \\sum_{l=0}^\\infty  \\sum_{j \\in \\mathcal{C}} B_{k+l}^j \\, {}_lp_{x+k}\\, q_{x+k+l}^j v^{l+1} -  \\sum_{l=0}^\\infty\\Pi_{k+l} {}_lp_{x+k} v^l \n",
    "\\end{eqnarray}\n",
    "\n"
   ]
  },
  {
   "cell_type": "markdown",
   "id": "9d18fe91-01b5-4242-bcc6-85829101bb04",
   "metadata": {},
   "source": [
    "**Recursion and Technical Ananlysis**\n",
    "\n",
    "**1 What Did we do**\n",
    "- Split the formula above up into l=0 and the rest\n",
    "- ${}_{n+m}p_x = {}_n p_x \\times {}_m p_{x+n}$ for $n=1$\n",
    "\n",
    "We get \n",
    "\n",
    "\\begin{eqnarray}\n",
    "{}_kV_x + \\Pi_k & = & q_{x+k} \\, B_k \\, v + p_x \\, v \\, {}_{k+1} V_x\n",
    "\\end{eqnarray}\n",
    "\n",
    "**2 What is new**\n",
    "\n",
    "- we do the same as above\n",
    "\n",
    "\\begin{eqnarray}\n",
    "{}_kV_x + \\Pi_k & = & \\sum_{j \\in \\mathcal{C}} q_{x+k}^j \\, B_k^j \\, v + p_x \\, v \\, {}_{k+1} V_x\n",
    "\\end{eqnarray}\n"
   ]
  },
  {
   "cell_type": "markdown",
   "id": "d0324341-8603-422b-bed6-3b71ad89c1fd",
   "metadata": {},
   "source": [
    "\\begin{eqnarray}\n",
    "{}_kV_x & = & \\sum_{l=0}^\\infty  \\sum_{j \\in \\mathcal{C}} B_{k+l}^j \\, {}_lp_{x+k}\\, q_{x+k+l}^j v^{l+1} -  \\sum_{l=0}^\\infty\\Pi_{k+l} {}_lp_{x+k} v^l \\\\\n",
    "        & = & \\sum_{j \\in \\mathcal{C}} q_{x+k}^j \\, B_k^j \\, v - \\Pi_k \\\\\n",
    "        && + \\sum_{l=1}^\\infty  \\sum_{j \\in \\mathcal{C}} B_{k+l}^j \\, {}_lp_{x+k}\\, q_{x+k+l}^j v^{l+1} -  \\sum_{l=1}^\\infty\\Pi_{k+l} {}_lp_{x+k} v^l \\\\\n",
    "        & = & \\sum_{j \\in \\mathcal{C}} q_{x+k}^j \\, B_k^j \\, v - \\Pi_k \\\\\n",
    "        && + (p_x \\, v) \\times \\{ \\sum_{l=0}^\\infty  \\sum_{j \\in \\mathcal{C}} B_{k+l}^j \\, {}_lp_{x+k+1}\\, q_{x+k+l}^j v^{l+1} -  \\sum_{l=0}^\\infty\\Pi_{k+l} {}_lp_{x+k+1} v^l \\} \\\\\n",
    "        & = & \\sum_{j \\in \\mathcal{C}} q_{x+k}^j \\, B_k^j \\, v + p_x \\, v \\, {}_{k+1} V_x - \\Pi_k\n",
    "\\end{eqnarray}\n"
   ]
  },
  {
   "cell_type": "code",
   "execution_count": null,
   "id": "5a5f9aea-51b9-4b6b-92da-a58438ea36ed",
   "metadata": {},
   "outputs": [],
   "source": []
  }
 ],
 "metadata": {
  "kernelspec": {
   "display_name": "Python 3 (ipykernel)",
   "language": "python",
   "name": "python3"
  },
  "language_info": {
   "codemirror_mode": {
    "name": "ipython",
    "version": 3
   },
   "file_extension": ".py",
   "mimetype": "text/x-python",
   "name": "python",
   "nbconvert_exporter": "python",
   "pygments_lexer": "ipython3",
   "version": "3.12.4"
  }
 },
 "nbformat": 4,
 "nbformat_minor": 5
}
