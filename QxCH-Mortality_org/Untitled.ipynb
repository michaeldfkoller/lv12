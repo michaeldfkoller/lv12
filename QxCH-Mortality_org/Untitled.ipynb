{
 "cells": [
  {
   "cell_type": "code",
   "execution_count": 22,
   "id": "39c21201-d52e-4e24-9ba1-269f83ad55e1",
   "metadata": {},
   "outputs": [
    {
     "name": "stdout",
     "output_type": "stream",
     "text": [
      "   y  m  a1  a2  test\n",
      "0  1  3   0   1     1\n",
      "1  1  3   1   0     1\n",
      "2  1  3   0   0     0\n",
      "3  2  3   1   0     1\n",
      "4  2  4   1   0     1\n",
      "5  2  4   0   0     0\n"
     ]
    }
   ],
   "source": [
    "import pandas as pd\n",
    "d = {'y': [1,1,1,2,2,2], 'm': [3,3,3, 3,4,4], 'a1':[0,1,0,1,1,0], 'a2':[1,0,0,0,0,0], 'test':[1,1,0,1,1,0]}\n",
    "df = pd.DataFrame(data=d)\n",
    "print(df)"
   ]
  },
  {
   "cell_type": "code",
   "execution_count": 28,
   "id": "d377ff92-266e-4eec-8cf7-09c789cba6c4",
   "metadata": {},
   "outputs": [
    {
     "data": {
      "text/plain": [
       "array([0, 1])"
      ]
     },
     "execution_count": 28,
     "metadata": {},
     "output_type": "execute_result"
    }
   ],
   "source": [
    "df['a1'].unique()"
   ]
  },
  {
   "cell_type": "code",
   "execution_count": 24,
   "id": "9a0f424f-002d-40b4-8ff7-62b897d545e4",
   "metadata": {},
   "outputs": [
    {
     "name": "stdout",
     "output_type": "stream",
     "text": [
      "   y  m  a1  a2  test\n",
      "0  1  3   0   1     1\n",
      "1  1  3   1   0     1\n",
      "3  2  3   1   0     1\n",
      "4  2  4   1   0     1\n"
     ]
    }
   ],
   "source": [
    "dfnew = df[df.a1+df.a2>0.5]\n",
    "print(dfnew)"
   ]
  },
  {
   "cell_type": "code",
   "execution_count": null,
   "id": "2d116199-9355-4201-948e-c99e87cdc713",
   "metadata": {},
   "outputs": [],
   "source": []
  }
 ],
 "metadata": {
  "kernelspec": {
   "display_name": "Python 3 (ipykernel)",
   "language": "python",
   "name": "python3"
  },
  "language_info": {
   "codemirror_mode": {
    "name": "ipython",
    "version": 3
   },
   "file_extension": ".py",
   "mimetype": "text/x-python",
   "name": "python",
   "nbconvert_exporter": "python",
   "pygments_lexer": "ipython3",
   "version": "3.9.7"
  }
 },
 "nbformat": 4,
 "nbformat_minor": 5
}
